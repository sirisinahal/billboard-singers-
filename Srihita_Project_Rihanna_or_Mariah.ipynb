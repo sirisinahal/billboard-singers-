{
  "nbformat": 4,
  "nbformat_minor": 0,
  "metadata": {
    "colab": {
      "name": "Srihita_Project_Rihanna_or_Mariah.ipynb",
      "provenance": [],
      "collapsed_sections": [
        "rjLyUoj--Q4R"
      ],
      "include_colab_link": true
    },
    "kernelspec": {
      "display_name": "Python [conda env:py36]",
      "language": "python",
      "name": "conda-env-py36-py"
    },
    "language_info": {
      "codemirror_mode": {
        "name": "ipython",
        "version": 3
      },
      "file_extension": ".py",
      "mimetype": "text/x-python",
      "name": "python",
      "nbconvert_exporter": "python",
      "pygments_lexer": "ipython3",
      "version": "3.6.1"
    }
  },
  "cells": [
    {
      "cell_type": "markdown",
      "metadata": {
        "id": "view-in-github",
        "colab_type": "text"
      },
      "source": [
        "<a href=\"https://colab.research.google.com/github/sirisinahal/billboard-singers-/blob/main/Srihita_Project_Rihanna_or_Mariah.ipynb\" target=\"_parent\"><img src=\"https://colab.research.google.com/assets/colab-badge.svg\" alt=\"Open In Colab\"/></a>"
      ]
    },
    {
      "cell_type": "markdown",
      "metadata": {
        "id": "n6dbR4xS-Q4N"
      },
      "source": [
        "### INSTRUCTIONS\n",
        "\n",
        "**WARNING**: There is web page scraping in this project.  **Do not wait till the last minute** to do this project.\n"
      ]
    },
    {
      "cell_type": "markdown",
      "metadata": {
        "id": "xkyYg-ws-Q4O"
      },
      "source": [
        "# Rihanna or Mariah?"
      ]
    },
    {
      "cell_type": "markdown",
      "metadata": {
        "id": "--pTR9Un-Q4P"
      },
      "source": [
        "Billboard Magazine puts out a top 100 list of \"singles\" every week. Information from this list, as well as that from music sales, radio, and other sources is used to determine a top-100 \"singles\" of the year list. A **single** is typically one song, but sometimes can be two songs which are on one \"single\" record.\n",
        "\n",
        "In this homework you will: \n",
        "\n",
        "1. Scrape Wikipedia to obtain information about the best singers and groups from each year (distinguishing between the two groups) as determined by the Billboard top 100 charts. You will have to clean this data. Along the way you will learn how to save data in json files to avoid repeated scraping. \n",
        "2. Scrape Wikipedia to obtain information on these singers. You will have to scrape the web pages, this time using a cache to guard against network timeouts (or your laptop going to sleep). You will again clean the data, and save it to a json file.\n",
        "3. Use pandas to represent these two datasets and merge them.\n",
        "4. Use the individual and merged datasets to visualize the performance of the artists and their songs. We have kept the amount of analysis limited here for reasons of time; but you might enjoy exploring music genres and other aspects of the music business you can find on these wikipedia pages at your own leisure."
      ]
    },
    {
      "cell_type": "markdown",
      "metadata": {
        "id": "nAjSm3tO-Q4P"
      },
      "source": [
        "As usual, first we import the necessary libraries.  In particular, we use [Seaborn](http://stanford.edu/~mwaskom/software/seaborn/) to give us a nicer default color palette, with our plots being of large (`poster`) size and with a white-grid background. "
      ]
    },
    {
      "cell_type": "code",
      "metadata": {
        "id": "XpfDDUAg-Q4P",
        "scrolled": false
      },
      "source": [
        "%matplotlib inline\n",
        "import numpy as np\n",
        "import scipy as sp\n",
        "import matplotlib as mpl\n",
        "import matplotlib.cm as cm\n",
        "import matplotlib.pyplot as plt\n",
        "import pandas as pd\n",
        "import time\n",
        "pd.set_option('display.width', 500)\n",
        "pd.set_option('display.max_columns', 100)\n",
        "pd.set_option('display.notebook_repr_html', True)\n",
        "import seaborn as sns\n",
        "sns.set_style(\"whitegrid\")\n",
        "sns.set_context(\"poster\")\n",
        "import requests\n",
        "from bs4 import BeautifulSoup"
      ],
      "execution_count": null,
      "outputs": []
    },
    {
      "cell_type": "markdown",
      "metadata": {
        "id": "9PwJnIWc-Q4P"
      },
      "source": [
        "## Q1. Scraping Wikipedia for Billboard Top 100."
      ]
    },
    {
      "cell_type": "markdown",
      "metadata": {
        "id": "Wihi4QBq-Q4P"
      },
      "source": [
        "In this question you will scrape Wikipedia for the Billboard's top 100 singles."
      ]
    },
    {
      "cell_type": "markdown",
      "metadata": {
        "id": "7Yf_Syuc-Q4Q"
      },
      "source": [
        "### Scraping Wikipedia for Billboard singles"
      ]
    },
    {
      "cell_type": "markdown",
      "metadata": {
        "id": "TTdgdADz-Q4Q"
      },
      "source": [
        "We'll be using  [BeautifulSoup](http://www.crummy.com/software/BeautifulSoup/), and suggest that you use Python's built in `requests` library to fetch the web page."
      ]
    },
    {
      "cell_type": "markdown",
      "metadata": {
        "id": "R6VdEurr-Q4Q"
      },
      "source": [
        "#### 1.1 Parsing the Billboard Wikipedia page for 1970"
      ]
    },
    {
      "cell_type": "markdown",
      "metadata": {
        "id": "gZFsjlhm-Q4Q"
      },
      "source": [
        "Obtain the web page at http://en.wikipedia.org/wiki/Billboard_Year-End_Hot_100_singles_of_1970 using a HTTP GET request. From this web page we'll extract the top 100 singles and their rankings. Create a list of dictionaries, 100 of them to be precise, with entries like \n",
        "\n",
        "`{'url': '/wiki/Sugarloaf_(band)', 'ranking': 30, 'band_singer': 'Sugarloaf', 'title': 'Green-Eyed Lady'}`. \n",
        "\n",
        "If you look at that web page, you'll see a link for every song, from which you can get the `url` of the singer or band. We will use these links later to scrape information about the singer or band. From the listing we can also get the band or singer name `band_singer`, and `title` of the song.\n",
        "\n",
        "*HINT: look for a table with class `wikitable`.*"
      ]
    },
    {
      "cell_type": "markdown",
      "metadata": {
        "id": "26qO90Cf-Q4Q",
        "scrolled": true
      },
      "source": [
        "You should get something similar to this (where songs is the aforementioned list):\n",
        "\n",
        "```\n",
        "songs[2:4]\n",
        "```\n",
        "\n",
        "```\n",
        "[{'band_singer': 'The Guess Who',\n",
        "  'ranking': 3,\n",
        "  'title': '\"American Woman\"',\n",
        "  'url': '/wiki/The_Guess_Who'},\n",
        " {'band_singer': 'B.J. Thomas',\n",
        "  'ranking': 4,\n",
        "  'title': '\"Raindrops Keep Fallin\\' on My Head\"',\n",
        "  'url': '/wiki/B.J._Thomas'}]\n",
        "```"
      ]
    },
    {
      "cell_type": "code",
      "metadata": {
        "colab": {
          "base_uri": "https://localhost:8080/",
          "height": 473
        },
        "id": "-DxdDB4h1pSY",
        "outputId": "58bf5465-62a7-4365-9890-5fbdf537e366"
      },
      "source": [
        "response = requests.get(\"http://en.wikipedia.org/wiki/Billboard_Year-End_Hot_100_singles_of_1992\")\n",
        "html_text = response.text\n",
        "#print(response.text)\n",
        "source = BeautifulSoup(html_text,'html.parser')\n",
        "#print(source)\n",
        "source_table = source.find('table',{\"class\":\"wikitable sortable\"})\n",
        "#print(source_table)\n",
        "td_data = source_table.find_all('tr')[1:]\n",
        "#print(td_data)\n",
        "stable = BeautifulSoup(str(td_data),'html.parser')\n",
        "a_tags = stable('a')\n",
        "link_list = []\n",
        "for a in a_tags:\n",
        "  link_list.append(a.get('href'))\n",
        "print(link_list)\n",
        "ranking = []\n",
        "title = []\n",
        "artist = []\n",
        "for trs in td_data:\n",
        "  tds = trs.find_all('td')\n",
        "  ranking.append(int(tds[0].text))\n",
        "  title.append(tds[1].text)\n",
        "  artist.append((tds[2].text).replace('\\n',''))\n",
        "print(ranking)\n",
        "# print(names)\n",
        "# print(w_data)\n",
        "df = pd.DataFrame({'ranking' : ranking,'title' : title, 'band-singer' : artist})\n",
        "df"
      ],
      "execution_count": null,
      "outputs": [
        {
          "output_type": "stream",
          "text": [
            "['/wiki/End_of_the_Road_(Boyz_II_Men_song)', '/wiki/Boyz_II_Men', '/wiki/Baby_Got_Back', '/wiki/Sir_Mix-a-Lot', '/wiki/Jump_(Kris_Kross_song)', '/wiki/Kris_Kross', '/wiki/Save_the_Best_for_Last', '/wiki/Vanessa_L._Williams', '/wiki/Baby-Baby-Baby', '/wiki/TLC_(band)', '/wiki/Tears_in_Heaven', '/wiki/Eric_Clapton', '/wiki/My_Lovin%27_(You%27re_Never_Gonna_Get_It)', '/wiki/En_Vogue', '/wiki/Under_the_Bridge', '/wiki/Red_Hot_Chili_Peppers', '/wiki/All_4_Love', '/wiki/Color_Me_Badd', '/wiki/Just_Another_Day_(Jon_Secada_song)', '/wiki/Jon_Secada', '/wiki/I_Love_Your_Smile', '/wiki/Shanice', '/wiki/To_Be_with_You', '/wiki/Mr._Big_(band)', '/wiki/I%27m_Too_Sexy', '/wiki/Right_Said_Fred', '/wiki/Black_or_White', '/wiki/Michael_Jackson', '/wiki/Achy_Breaky_Heart', '/wiki/Billy_Ray_Cyrus', '/wiki/I%27ll_Be_There_(The_Jackson_5_song)#Mariah_Carey_version', '/wiki/Mariah_Carey', '/wiki/November_Rain', '/wiki/Guns_N%27_Roses', '/wiki/Life_Is_a_Highway', '/wiki/Tom_Cochrane', '/wiki/Remember_the_Time', '/wiki/Michael_Jackson', '/wiki/Finally_(CeCe_Peniston_song)', '/wiki/CeCe_Peniston', '/wiki/This_Used_to_Be_My_Playground', '/wiki/Madonna', '/wiki/Sometimes_Love_Just_Ain%27t_Enough', '/wiki/Patty_Smyth', '/wiki/Don_Henley', '/wiki/Can%27t_Let_Go_(Mariah_Carey_song)', '/wiki/Mariah_Carey', '/wiki/Jump_Around', '/wiki/House_of_Pain', '/wiki/Diamonds_and_Pearls_(song)', '/wiki/Prince_(entertainer)', '/wiki/The_New_Power_Generation', '/wiki/Don%27t_Let_the_Sun_Go_Down_on_Me', '/wiki/George_Michael', '/wiki/Elton_John', '/wiki/Masterpiece_(Atlantic_Starr_song)', '/wiki/Atlantic_Starr', '/wiki/If_You_Asked_Me_To', '/wiki/Celine_Dion', '/wiki/Something_He_Can_Feel', '/wiki/En_Vogue', '/wiki/Live_and_Learn_(Joe_Public_song)', '/wiki/Joe_Public_(band)', '/wiki/Come_and_Talk_to_Me', '/wiki/Jodeci', '/wiki/Smells_Like_Teen_Spirit', '/wiki/Nirvana_(band)', '/wiki/Humpin%27_Around', '/wiki/Bobby_Brown', '/wiki/Damn_I_Wish_I_Was_Your_Lover', '/wiki/Sophie_B._Hawkins', '/wiki/Tell_Me_What_You_Want_Me_to_Do', '/wiki/Tevin_Campbell', '/wiki/Ain%27t_2_Proud_2_Beg', '/wiki/TLC_(band)', '/wiki/It%27s_So_Hard_to_Say_Goodbye_to_Yesterday', '/wiki/Boyz_II_Men', '/wiki/Move_This', '/wiki/Technotronic', '/wiki/Ya_Kid_K', '/wiki/Bohemian_Rhapsody', '/wiki/Queen_(band)', '/wiki/Tennessee_(Arrested_Development_song)', '/wiki/Arrested_Development_(group)', '/wiki/The_Best_Things_in_Life_Are_Free', '/wiki/Luther_Vandross', '/wiki/Janet_Jackson', '/wiki/Make_It_Happen_(Mariah_Carey_song)', '/wiki/Mariah_Carey', '/wiki/The_One_(Elton_John_song)', '/wiki/Elton_John', '/wiki/Set_Adrift_on_Memory_Bliss', '/wiki/P.M._Dawn', '/wiki/Stay_(Shakespears_Sister_song)', '/wiki/Shakespears_Sister', '/wiki/Too_Legit_to_Quit_(song)', '/wiki/MC_Hammer', '/wiki/Please_Don%27t_Go_(KC_and_the_Sunshine_Band_song)#KWS_version', '/wiki/KWS_(band)', '/wiki/Breakin%27_My_Heart_(Pretty_Brown_Eyes)', '/wiki/Mint_Condition', '/wiki/Wishing_on_a_Star', '/wiki/The_Cover_Girls', '/wiki/Hi-Five', '/wiki/I%27d_Die_Without_You', '/wiki/P.M._Dawn', '/wiki/Good_for_Me_(song)', '/wiki/Amy_Grant', '/wiki/All_I_Want_(Toad_the_Wet_Sprocket_song)', '/wiki/Toad_the_Wet_Sprocket', '/wiki/When_a_Man_Loves_a_Woman_(song)', '/wiki/Michael_Bolton', '/wiki/I_Can%27t_Dance', '/wiki/Genesis_(band)', '/wiki/Hazard_(song)', '/wiki/Richard_Marx', '/wiki/Mysterious_Ways_(song)', '/wiki/U2', '/wiki/Too_Funky', '/wiki/George_Michael', '/wiki/How_Do_You_Talk_to_an_Angel', '/wiki/The_Heights_(American_TV_series)', '/wiki/One_(U2_song)', '/wiki/U2', '/wiki/Keep_on_Walkin%27_(song)', '/wiki/CeCe_Peniston', '/wiki/Hold_on_My_Heart', '/wiki/Genesis_(band)', '/wiki/Karyn_White', '/wiki/Beauty_and_the_Beast_(Disney_song)', '/wiki/Celine_Dion', '/wiki/Peabo_Bryson', '/wiki/Warm_It_Up', '/wiki/Kris_Kross', '/wiki/In_the_Closet', '/wiki/Michael_Jackson', '/wiki/People_Everyday', '/wiki/Arrested_Development_(group)', '/wiki/No_Son_of_Mine', '/wiki/Genesis_(band)', '/wiki/Wildside_(Marky_Mark_and_the_Funky_Bunch_song)', '/wiki/Marky_Mark_and_the_Funky_Bunch', '/wiki/Do_I_Have_to_Say_the_Words%3F', '/wiki/Bryan_Adams', '/wiki/Friday_I%27m_in_Love', '/wiki/The_Cure', '/wiki/Everything_About_You_(Ugly_Kid_Joe_song)', '/wiki/Ugly_Kid_Joe', '/wiki/Blowing_Kisses_in_the_Wind', '/wiki/Paula_Abdul', '/wiki/Thought_I%27d_Died_and_Gone_to_Heaven', '/wiki/Bryan_Adams', '/wiki/Rhythm_Is_a_Dancer', '/wiki/Snap!', '/wiki/Addams_Groove', '/wiki/MC_Hammer', '/wiki/Missing_You_Now', '/wiki/Michael_Bolton', '/wiki/N2Deep', '/wiki/Kathy_Troccoli', '/wiki/Have_You_Ever_Needed_Someone_So_Bad', '/wiki/Def_Leppard', '/wiki/Take_This_Heart', '/wiki/Richard_Marx', '/wiki/When_I_Look_Into_Your_Eyes', '/wiki/FireHouse_(band)', '/wiki/I_Wanna_Love_You_(Jade_song)', '/wiki/Jade_(American_band)', '/wiki/Uhh_Ahh', '/wiki/Boyz_II_Men', '/wiki/Real_Love_(Mary_J._Blige_song)', '/wiki/Mary_J._Blige', '/wiki/Justified_and_Ancient', '/wiki/The_KLF', '/wiki/Color_Me_Badd', '/wiki/What_About_Your_Friends', '/wiki/TLC_(band)', '/wiki/Color_Me_Badd', '/wiki/Would_I_Lie_to_You%3F_(Charles_%26_Eddie_song)', '/wiki/Charles_%26_Eddie', '/wiki/That%27s_What_Love_Is_For', '/wiki/Amy_Grant', '/wiki/Keep_Coming_Back_(song)', '/wiki/Richard_Marx', '/wiki/Free_Your_Mind_(song)', '/wiki/En_Vogue', '/wiki/Keep_It_Comin%27_(song)', '/wiki/Keith_Sweat', '/wiki/Just_Take_My_Heart_(song)', '/wiki/Mr._Big_(band)', '/wiki/I_Will_Remember_You_(Amy_Grant_song)', '/wiki/Amy_Grant', '/wiki/We_Got_a_Love_Thang', '/wiki/CeCe_Peniston', '/wiki/Let%27s_Get_Rocked', '/wiki/Def_Leppard', '/wiki/They_Want_EFX', '/wiki/Das_EFX', '/wiki/I_Can%27t_Make_You_Love_Me', '/wiki/Bonnie_Raitt']\n",
            "[1, 2, 3, 4, 5, 6, 7, 8, 9, 10, 11, 12, 13, 14, 15, 16, 17, 18, 19, 20, 21, 22, 23, 24, 25, 26, 27, 28, 29, 30, 31, 32, 33, 34, 35, 36, 37, 38, 39, 40, 41, 42, 43, 44, 45, 46, 47, 48, 49, 50, 51, 52, 53, 54, 55, 56, 57, 58, 59, 60, 61, 62, 63, 64, 65, 66, 67, 68, 69, 70, 71, 72, 73, 74, 75, 76, 77, 78, 79, 80, 81, 82, 83, 84, 85, 86, 87, 88, 89, 90, 91, 92, 93, 94, 95, 96, 97, 98, 99, 100]\n"
          ],
          "name": "stdout"
        },
        {
          "output_type": "execute_result",
          "data": {
            "text/html": [
              "<div>\n",
              "<style scoped>\n",
              "    .dataframe tbody tr th:only-of-type {\n",
              "        vertical-align: middle;\n",
              "    }\n",
              "\n",
              "    .dataframe tbody tr th {\n",
              "        vertical-align: top;\n",
              "    }\n",
              "\n",
              "    .dataframe thead th {\n",
              "        text-align: right;\n",
              "    }\n",
              "</style>\n",
              "<table border=\"1\" class=\"dataframe\">\n",
              "  <thead>\n",
              "    <tr style=\"text-align: right;\">\n",
              "      <th></th>\n",
              "      <th>ranking</th>\n",
              "      <th>title</th>\n",
              "      <th>band-singer</th>\n",
              "    </tr>\n",
              "  </thead>\n",
              "  <tbody>\n",
              "    <tr>\n",
              "      <th>0</th>\n",
              "      <td>1</td>\n",
              "      <td>\"End of the Road\"</td>\n",
              "      <td>Boyz II Men</td>\n",
              "    </tr>\n",
              "    <tr>\n",
              "      <th>1</th>\n",
              "      <td>2</td>\n",
              "      <td>\"Baby Got Back\"</td>\n",
              "      <td>Sir Mix-a-Lot</td>\n",
              "    </tr>\n",
              "    <tr>\n",
              "      <th>2</th>\n",
              "      <td>3</td>\n",
              "      <td>\"Jump\"</td>\n",
              "      <td>Kris Kross</td>\n",
              "    </tr>\n",
              "    <tr>\n",
              "      <th>3</th>\n",
              "      <td>4</td>\n",
              "      <td>\"Save the Best for Last\"</td>\n",
              "      <td>Vanessa Williams</td>\n",
              "    </tr>\n",
              "    <tr>\n",
              "      <th>4</th>\n",
              "      <td>5</td>\n",
              "      <td>\"Baby-Baby-Baby\"</td>\n",
              "      <td>TLC</td>\n",
              "    </tr>\n",
              "    <tr>\n",
              "      <th>...</th>\n",
              "      <td>...</td>\n",
              "      <td>...</td>\n",
              "      <td>...</td>\n",
              "    </tr>\n",
              "    <tr>\n",
              "      <th>95</th>\n",
              "      <td>96</td>\n",
              "      <td>\"I Will Remember You\"</td>\n",
              "      <td>Amy Grant</td>\n",
              "    </tr>\n",
              "    <tr>\n",
              "      <th>96</th>\n",
              "      <td>97</td>\n",
              "      <td>\"We Got a Love Thang\"</td>\n",
              "      <td>CeCe Peniston</td>\n",
              "    </tr>\n",
              "    <tr>\n",
              "      <th>97</th>\n",
              "      <td>98</td>\n",
              "      <td>\"Let's Get Rocked\"</td>\n",
              "      <td>Def Leppard</td>\n",
              "    </tr>\n",
              "    <tr>\n",
              "      <th>98</th>\n",
              "      <td>99</td>\n",
              "      <td>\"They Want EFX\"</td>\n",
              "      <td>Das EFX</td>\n",
              "    </tr>\n",
              "    <tr>\n",
              "      <th>99</th>\n",
              "      <td>100</td>\n",
              "      <td>\"I Can't Make You Love Me\"</td>\n",
              "      <td>Bonnie Raitt</td>\n",
              "    </tr>\n",
              "  </tbody>\n",
              "</table>\n",
              "<p>100 rows × 3 columns</p>\n",
              "</div>"
            ],
            "text/plain": [
              "    ranking                       title       band-singer\n",
              "0         1           \"End of the Road\"       Boyz II Men\n",
              "1         2             \"Baby Got Back\"     Sir Mix-a-Lot\n",
              "2         3                      \"Jump\"        Kris Kross\n",
              "3         4    \"Save the Best for Last\"  Vanessa Williams\n",
              "4         5            \"Baby-Baby-Baby\"               TLC\n",
              "..      ...                         ...               ...\n",
              "95       96       \"I Will Remember You\"         Amy Grant\n",
              "96       97       \"We Got a Love Thang\"     CeCe Peniston\n",
              "97       98          \"Let's Get Rocked\"       Def Leppard\n",
              "98       99             \"They Want EFX\"           Das EFX\n",
              "99      100  \"I Can't Make You Love Me\"      Bonnie Raitt\n",
              "\n",
              "[100 rows x 3 columns]"
            ]
          },
          "metadata": {
            "tags": []
          },
          "execution_count": 117
        }
      ]
    },
    {
      "cell_type": "markdown",
      "metadata": {
        "id": "9IKAqE5U-Q4Q"
      },
      "source": [
        "#### 1.2 Generalize the previous: scrape Wikipedia from 1992 to 2014"
      ]
    },
    {
      "cell_type": "markdown",
      "metadata": {
        "id": "hNbXNEvj-Q4Q"
      },
      "source": [
        "By visiting the urls similar to the ones for 1970, we can obtain the billboard top 100 for the years 1992 to 2014. (We choose these later years rather than 1970 as you might find music from this era more interesting.) Download these using Python's `requests` module and store the text from those requests in a dictionary called `yearstext`. This dictionary ought to have as its keys the years (as integers from 1992 to 2014), and as values corresponding to these keys the text of the page being fetched.\n",
        "\n",
        "You ought to sleep a second (look up `time.sleep` in Python) at the very least in-between fetching each web page: you do not want Wikipedia to think you are a marauding bot attempting to mount a denial-of-service attack."
      ]
    },
    {
      "cell_type": "markdown",
      "metadata": {
        "id": "Rx6QzED7-Q4Q"
      },
      "source": [
        "*HINT: you might find `range` and string-interpolation useful to construct the URLs *.\n"
      ]
    },
    {
      "cell_type": "code",
      "metadata": {
        "id": "NQoOxid_2GN2"
      },
      "source": [
        "url_temp = \"https://en.wikipedia.org/wiki/Billboard_Year-End_Hot_100_singles_of_\"\n",
        "yearstext = {}\n",
        "for i in range(1992,2015):\n",
        "  url = url_temp+f\"{i}\"\n",
        "  # print(url)\n",
        "  # break\n",
        "  content_html = requests.get(url).text\n",
        "  yearstext[i] = content_html\n",
        "  time.sleep(0.1)\n",
        "\n",
        "\n",
        "print(yearstext[1997])"
      ],
      "execution_count": null,
      "outputs": []
    },
    {
      "cell_type": "markdown",
      "metadata": {
        "id": "g8T-OdMD-Q4Q"
      },
      "source": [
        "#### 1.3 Parse and Clean data "
      ]
    },
    {
      "cell_type": "markdown",
      "metadata": {
        "id": "EtgKimtu-Q4R"
      },
      "source": [
        "Remember the code you wrote to get data from 1970 which produces a list of dictionaries, one corresponding to each single.  Now write a function `parse_year(the_year, yeartext_dict)` which takes the year, prints it out, gets the text for the year from the just created `yearstext` dictionary, and return a list of dictionaries for that year, with one dictionary for each single. Store this list in the variable `yearinfo`.\n",
        "\n",
        "The dictionaries **must** be of this form:\n",
        "\n",
        "```\n",
        "{'band_singer': ['Brandy', 'Monica'],\n",
        "  'ranking': 2,\n",
        "  'song': ['The Boy Is Mine'],\n",
        "  'songurl': ['/wiki/The_Boy_Is_Mine_(song)'],\n",
        "  'titletext': '\" The Boy Is Mine \"',\n",
        "  'url': ['/wiki/Brandy_Norwood', '/wiki/Monica_(entertainer)']}\n",
        "```"
      ]
    },
    {
      "cell_type": "markdown",
      "metadata": {
        "id": "jDBNgw0m-Q4R"
      },
      "source": [
        "The spec of this function is provided below:"
      ]
    },
    {
      "cell_type": "code",
      "metadata": {
        "colab": {
          "base_uri": "https://localhost:8080/"
        },
        "id": "j_sV9O3Y-Q4R",
        "outputId": "ba337fc8-9cce-4f99-b96b-e5fbf7810db7"
      },
      "source": [
        "\"\"\"\n",
        "Function\n",
        "--------\n",
        "parse_year\n",
        "\n",
        "Inputs\n",
        "------\n",
        "the_year: the year you want the singles for\n",
        "yeartext_dict: a dictionary with keys as integer years and values the downloaded web pages \n",
        "    from wikipedia for that year.\n",
        "   \n",
        "Returns\n",
        "-------\n",
        "\n",
        "a list of dictionaries, each of which corresponds to a single and has the\n",
        "following data:\n",
        "\n",
        "Eg:\n",
        "\n",
        "{'band_singer': ['Brandy', 'Monica'],\n",
        "  'ranking': 2,\n",
        "  'song': ['The Boy Is Mine'],\n",
        "  'songurl': ['/wiki/The_Boy_Is_Mine_(song)'],\n",
        "  'titletext': '\" The Boy Is Mine \"',\n",
        "  'url': ['/wiki/Brandy_Norwood', '/wiki/Monica_(entertainer)']}\n",
        "  \n",
        "A dictionary with the following data:\n",
        "    band_singer: a list of bands/singers who made this single\n",
        "    song: a list of the titles of songs on this single\n",
        "    songurl: a list of the same size as song which has urls for the songs on the single \n",
        "        (see point 3 above)\n",
        "    ranking: ranking of the single\n",
        "    titletext: the contents of the table cell\n",
        "    band_singer: a list of bands or singers on this single\n",
        "    url: a list of wikipedia singer/band urls on this single: only put in the part \n",
        "        of the url from /wiki onwards\n",
        "    \n",
        "\n",
        "Notes\n",
        "-----\n",
        "See description and example above.\n",
        "\"\"\""
      ],
      "execution_count": null,
      "outputs": [
        {
          "output_type": "execute_result",
          "data": {
            "application/vnd.google.colaboratory.intrinsic+json": {
              "type": "string"
            },
            "text/plain": [
              "'\\nFunction\\n--------\\nparse_year\\n\\nInputs\\n------\\nthe_year: the year you want the singles for\\nyeartext_dict: a dictionary with keys as integer years and values the downloaded web pages \\n    from wikipedia for that year.\\n   \\nReturns\\n-------\\n\\na list of dictionaries, each of which corresponds to a single and has the\\nfollowing data:\\n\\nEg:\\n\\n{\\'band_singer\\': [\\'Brandy\\', \\'Monica\\'],\\n  \\'ranking\\': 2,\\n  \\'song\\': [\\'The Boy Is Mine\\'],\\n  \\'songurl\\': [\\'/wiki/The_Boy_Is_Mine_(song)\\'],\\n  \\'titletext\\': \\'\" The Boy Is Mine \"\\',\\n  \\'url\\': [\\'/wiki/Brandy_Norwood\\', \\'/wiki/Monica_(entertainer)\\']}\\n  \\nA dictionary with the following data:\\n    band_singer: a list of bands/singers who made this single\\n    song: a list of the titles of songs on this single\\n    songurl: a list of the same size as song which has urls for the songs on the single \\n        (see point 3 above)\\n    ranking: ranking of the single\\n    titletext: the contents of the table cell\\n    band_singer: a list of bands or singers on this single\\n    url: a list of wikipedia singer/band urls on this single: only put in the part \\n        of the url from /wiki onwards\\n    \\n\\nNotes\\n-----\\nSee description and example above.\\n'"
            ]
          },
          "metadata": {
            "tags": []
          },
          "execution_count": 4
        }
      ]
    },
    {
      "cell_type": "code",
      "metadata": {
        "colab": {
          "base_uri": "https://localhost:8080/"
        },
        "id": "wNIkWMqP2NoJ",
        "outputId": "d76dfb85-507a-44e9-e070-18ad3431ed81"
      },
      "source": [
        "# url = \"http://en.wikipedia.org/wiki/Billboard_Year-End_Hot_100_singles_of_1997\"\n",
        "# html_content = requests.get(url).text\n",
        "# soup = BeautifulSoup(html_content, \"lxml\")\n",
        "def parse_year(the_year,yearstext):\n",
        "    soup = BeautifulSoup(yearstext[the_year], 'html.parser')\n",
        "    table = soup.find(\"table\",attrs={\"class\":\"wikitable sortable\"})\n",
        "    yearinfoo = []\n",
        "    for row in table.tbody.find_all('tr')[1:]:\n",
        "      dictt = {}\n",
        "      # b_list = []\n",
        "      s_list = []\n",
        "      s_url_list = []\n",
        "      u_list = []\n",
        "      cells = row.find_all('td')\n",
        "      # print(cells)\n",
        "\n",
        "      b = cells[2].find_all(\"a\")\n",
        "\n",
        "      b_list = [band.string for band in b]\n",
        "\n",
        "      # b_list.append(cells[2].string)\n",
        "      # print(b)\n",
        "      for bb in b:\n",
        "        # b_list.append(bb.string)\n",
        "      # print(b_list)\n",
        "        u = bb['href']\n",
        "        u_list.append(u)\n",
        "        \n",
        "      dictt['band_singer'] = b_list\n",
        "\n",
        "      dictt['ranking'] = int(cells[0].text.replace('\\n','').strip())\n",
        "      \n",
        "      s = cells[1].find_all(\"a\")\n",
        "      for ss in s:\n",
        "        # print(ss.string)\n",
        "        s_list.append(ss.string)\n",
        "        s_url = ss['href']\n",
        "        s_url_list.append(s_url)\n",
        "      # print(s_list)\n",
        "      dictt['song'] = s_list\n",
        "\n",
        "      if len(s_url_list) == 0:\n",
        "        dictt['songurl'] = [None]\n",
        "      else:\n",
        "        dictt['songurl'] = s_url_list\n",
        "\n",
        "      # t = '/'.join(str(x) for x in s_list)\n",
        "      # # print(t)\n",
        "      # dictt['titletext'] = t\n",
        "      dictt['title'] = cells[1].text[:-1]\n",
        "\n",
        "      if len(u_list) == 0:\n",
        "        dictt['url'] = [None]\n",
        "      else:\n",
        "        dictt['url'] = u_list\n",
        "\n",
        "\n",
        "\n",
        "      yearinfoo.append(dictt)\n",
        "\n",
        "    return yearinfoo\n",
        "\n",
        "#   dictt['band_singer'] = cells[2].text.replace('\\n','').strip()\n",
        "#   dictt['ranking'] = int(cells[0].text.replace('\\n','').strip())\n",
        "#   dictt['title'] = cells[1].text.replace('\\n','').strip()\n",
        "#   a = dictt['band_singer']\n",
        "#   # dictt['url'] = cells[2].find(\"a\")['href']\n",
        "#   songs.append(dictt)\n",
        "# print(songs[1:3])\n",
        "parse_year(2014,yearstext)\n",
        "# print(len(parse_year))"
      ],
      "execution_count": null,
      "outputs": [
        {
          "output_type": "execute_result",
          "data": {
            "text/plain": [
              "[{'band_singer': ['Pharrell Williams'],\n",
              "  'ranking': 1,\n",
              "  'song': ['Happy'],\n",
              "  'songurl': ['/wiki/Happy_(Pharrell_Williams_song)'],\n",
              "  'title': '\"Happy',\n",
              "  'url': ['/wiki/Pharrell_Williams']},\n",
              " {'band_singer': ['Katy Perry', 'Juicy J'],\n",
              "  'ranking': 2,\n",
              "  'song': ['Dark Horse'],\n",
              "  'songurl': ['/wiki/Dark_Horse_(Katy_Perry_song)'],\n",
              "  'title': '\"Dark Horse',\n",
              "  'url': ['/wiki/Katy_Perry', '/wiki/Juicy_J']},\n",
              " {'band_singer': ['John Legend'],\n",
              "  'ranking': 3,\n",
              "  'song': ['All of Me'],\n",
              "  'songurl': ['/wiki/All_of_Me_(John_Legend_song)'],\n",
              "  'title': '\"All of Me',\n",
              "  'url': ['/wiki/John_Legend']},\n",
              " {'band_singer': ['Iggy Azalea', 'Charli XCX'],\n",
              "  'ranking': 4,\n",
              "  'song': ['Fancy'],\n",
              "  'songurl': ['/wiki/Fancy_(Iggy_Azalea_song)'],\n",
              "  'title': '\"Fancy',\n",
              "  'url': ['/wiki/Iggy_Azalea', '/wiki/Charli_XCX']},\n",
              " {'band_singer': ['OneRepublic'],\n",
              "  'ranking': 5,\n",
              "  'song': ['Counting Stars'],\n",
              "  'songurl': ['/wiki/Counting_Stars'],\n",
              "  'title': '\"Counting Stars',\n",
              "  'url': ['/wiki/OneRepublic']},\n",
              " {'band_singer': ['Jason Derulo', '2 Chainz'],\n",
              "  'ranking': 6,\n",
              "  'song': ['Talk Dirty'],\n",
              "  'songurl': ['/wiki/Talk_Dirty_(Jason_Derulo_song)'],\n",
              "  'title': '\"Talk Dirty',\n",
              "  'url': ['/wiki/Jason_Derulo', '/wiki/2_Chainz']},\n",
              " {'band_singer': ['Magic!'],\n",
              "  'ranking': 7,\n",
              "  'song': ['Rude'],\n",
              "  'songurl': ['/wiki/Rude_(song)'],\n",
              "  'title': '\"Rude',\n",
              "  'url': ['/wiki/Magic!']},\n",
              " {'band_singer': ['Meghan Trainor'],\n",
              "  'ranking': 8,\n",
              "  'song': ['All About That Bass'],\n",
              "  'songurl': ['/wiki/All_About_That_Bass'],\n",
              "  'title': '\"All About That Bass',\n",
              "  'url': ['/wiki/Meghan_Trainor']},\n",
              " {'band_singer': ['Ariana Grande', 'Iggy Azalea'],\n",
              "  'ranking': 9,\n",
              "  'song': ['Problem'],\n",
              "  'songurl': ['/wiki/Problem_(Ariana_Grande_song)'],\n",
              "  'title': '\"Problem',\n",
              "  'url': ['/wiki/Ariana_Grande', '/wiki/Iggy_Azalea']},\n",
              " {'band_singer': ['Sam Smith'],\n",
              "  'ranking': 10,\n",
              "  'song': ['Stay with Me'],\n",
              "  'songurl': ['/wiki/Stay_with_Me_(Sam_Smith_song)'],\n",
              "  'title': '\"Stay with Me',\n",
              "  'url': ['/wiki/Sam_Smith_(singer)']},\n",
              " {'band_singer': ['Pitbull', 'Kesha'],\n",
              "  'ranking': 11,\n",
              "  'song': ['Timber'],\n",
              "  'songurl': ['/wiki/Timber_(Pitbull_song)'],\n",
              "  'title': '\"Timber',\n",
              "  'url': ['/wiki/Pitbull_(rapper)', '/wiki/Kesha']},\n",
              " {'band_singer': ['Bastille'],\n",
              "  'ranking': 12,\n",
              "  'song': ['Pompeii'],\n",
              "  'songurl': ['/wiki/Pompeii_(Bastille_song)'],\n",
              "  'title': '\"Pompeii',\n",
              "  'url': ['/wiki/Bastille_(band)']},\n",
              " {'band_singer': ['Taylor Swift'],\n",
              "  'ranking': 13,\n",
              "  'song': ['Shake It Off'],\n",
              "  'songurl': ['/wiki/Shake_It_Off'],\n",
              "  'title': '\"Shake It Off',\n",
              "  'url': ['/wiki/Taylor_Swift']},\n",
              " {'band_singer': ['Nico & Vinz'],\n",
              "  'ranking': 14,\n",
              "  'song': ['Am I Wrong'],\n",
              "  'songurl': ['/wiki/Am_I_Wrong_(song)'],\n",
              "  'title': '\"Am I Wrong',\n",
              "  'url': ['/wiki/Nico_%26_Vinz']},\n",
              " {'band_singer': ['DJ Snake', 'Lil Jon'],\n",
              "  'ranking': 15,\n",
              "  'song': ['Turn Down for What'],\n",
              "  'songurl': ['/wiki/Turn_Down_for_What'],\n",
              "  'title': '\"Turn Down for What',\n",
              "  'url': ['/wiki/DJ_Snake', '/wiki/Lil_Jon']},\n",
              " {'band_singer': ['Eminem', 'Rihanna'],\n",
              "  'ranking': 16,\n",
              "  'song': ['The Monster'],\n",
              "  'songurl': ['/wiki/The_Monster_(Eminem_song)'],\n",
              "  'title': '\"The Monster',\n",
              "  'url': ['/wiki/Eminem', '/wiki/Rihanna']},\n",
              " {'band_singer': ['A Great Big World', 'Christina Aguilera'],\n",
              "  'ranking': 17,\n",
              "  'song': ['Say Something'],\n",
              "  'songurl': ['/wiki/Say_Something_(A_Great_Big_World_song)'],\n",
              "  'title': '\"Say Something',\n",
              "  'url': ['/wiki/A_Great_Big_World', '/wiki/Christina_Aguilera']},\n",
              " {'band_singer': ['Lorde'],\n",
              "  'ranking': 18,\n",
              "  'song': ['Team'],\n",
              "  'songurl': ['/wiki/Team_(Lorde_song)'],\n",
              "  'title': '\"Team',\n",
              "  'url': ['/wiki/Lorde']},\n",
              " {'band_singer': ['Passenger'],\n",
              "  'ranking': 19,\n",
              "  'song': ['Let Her Go'],\n",
              "  'songurl': ['/wiki/Let_Her_Go_(Passenger_song)'],\n",
              "  'title': '\"Let Her Go',\n",
              "  'url': ['/wiki/Passenger_(singer)']},\n",
              " {'band_singer': ['Lorde'],\n",
              "  'ranking': 20,\n",
              "  'song': ['Royals'],\n",
              "  'songurl': ['/wiki/Royals_(song)'],\n",
              "  'title': '\"Royals',\n",
              "  'url': ['/wiki/Lorde']},\n",
              " {'band_singer': ['Idina Menzel'],\n",
              "  'ranking': 21,\n",
              "  'song': ['Let It Go'],\n",
              "  'songurl': ['/wiki/Let_It_Go_(Disney_song)'],\n",
              "  'title': '\"Let It Go',\n",
              "  'url': ['/wiki/Idina_Menzel']},\n",
              " {'band_singer': ['Avicii'],\n",
              "  'ranking': 22,\n",
              "  'song': ['Wake Me Up'],\n",
              "  'songurl': ['/wiki/Wake_Me_Up_(Avicii_song)'],\n",
              "  'title': '\"Wake Me Up',\n",
              "  'url': ['/wiki/Avicii']},\n",
              " {'band_singer': ['Imagine Dragons'],\n",
              "  'ranking': 23,\n",
              "  'song': ['Demons'],\n",
              "  'songurl': ['/wiki/Demons_(Imagine_Dragons_song)'],\n",
              "  'title': '\"Demons',\n",
              "  'url': ['/wiki/Imagine_Dragons']},\n",
              " {'band_singer': ['One Direction'],\n",
              "  'ranking': 24,\n",
              "  'song': ['Story of My Life'],\n",
              "  'songurl': ['/wiki/Story_of_My_Life_(One_Direction_song)'],\n",
              "  'title': '\"Story of My Life',\n",
              "  'url': ['/wiki/One_Direction']},\n",
              " {'band_singer': ['Sia'],\n",
              "  'ranking': 25,\n",
              "  'song': ['Chandelier'],\n",
              "  'songurl': ['/wiki/Chandelier_(Sia_song)'],\n",
              "  'title': '\"Chandelier',\n",
              "  'url': ['/wiki/Sia_Furler']},\n",
              " {'band_singer': ['Iggy Azalea', 'Rita Ora'],\n",
              "  'ranking': 26,\n",
              "  'song': ['Black Widow'],\n",
              "  'songurl': ['/wiki/Black_Widow_(Iggy_Azalea_song)'],\n",
              "  'title': '\"Black Widow',\n",
              "  'url': ['/wiki/Iggy_Azalea', '/wiki/Rita_Ora']},\n",
              " {'band_singer': ['Jessie J', 'Ariana Grande', 'Nicki Minaj'],\n",
              "  'ranking': 27,\n",
              "  'song': ['Bang Bang'],\n",
              "  'songurl': ['/wiki/Bang_Bang_(Jessie_J,_Ariana_Grande_and_Nicki_Minaj_song)'],\n",
              "  'title': '\"Bang Bang',\n",
              "  'url': ['/wiki/Jessie_J', '/wiki/Ariana_Grande', '/wiki/Nicki_Minaj']},\n",
              " {'band_singer': ['Disclosure', 'Sam Smith'],\n",
              "  'ranking': 28,\n",
              "  'song': ['Latch'],\n",
              "  'songurl': ['/wiki/Latch_(song)'],\n",
              "  'title': '\"Latch',\n",
              "  'url': ['/wiki/Disclosure_(band)', '/wiki/Sam_Smith_(singer)']},\n",
              " {'band_singer': ['Maroon 5'],\n",
              "  'ranking': 29,\n",
              "  'song': ['Maps'],\n",
              "  'songurl': ['/wiki/Maps_(Maroon_5_song)'],\n",
              "  'title': '\"Maps',\n",
              "  'url': ['/wiki/Maroon_5']},\n",
              " {'band_singer': ['Chris Brown',\n",
              "   'Lil Wayne',\n",
              "   'French Montana',\n",
              "   'Too Short',\n",
              "   'Tyga'],\n",
              "  'ranking': 30,\n",
              "  'song': ['Loyal'],\n",
              "  'songurl': ['/wiki/Loyal_(Chris_Brown_song)'],\n",
              "  'title': '\"Loyal',\n",
              "  'url': ['/wiki/Chris_Brown',\n",
              "   '/wiki/Lil_Wayne',\n",
              "   '/wiki/French_Montana',\n",
              "   '/wiki/Too_Short',\n",
              "   '/wiki/Tyga']},\n",
              " {'band_singer': ['American Authors'],\n",
              "  'ranking': 31,\n",
              "  'song': ['Best Day of My Life'],\n",
              "  'songurl': ['/wiki/Best_Day_of_My_Life'],\n",
              "  'title': '\"Best Day of My Life',\n",
              "  'url': ['/wiki/American_Authors']},\n",
              " {'band_singer': ['Tove Lo'],\n",
              "  'ranking': 32,\n",
              "  'song': ['Habits (Stay High)'],\n",
              "  'songurl': ['/wiki/Habits_(Stay_High)'],\n",
              "  'title': '\"Habits (Stay High)',\n",
              "  'url': ['/wiki/Tove_Lo']},\n",
              " {'band_singer': ['Calvin Harris'],\n",
              "  'ranking': 33,\n",
              "  'song': ['Summer'],\n",
              "  'songurl': ['/wiki/Summer_(Calvin_Harris_song)'],\n",
              "  'title': '\"Summer',\n",
              "  'url': ['/wiki/Calvin_Harris']},\n",
              " {'band_singer': ['Charli XCX'],\n",
              "  'ranking': 34,\n",
              "  'song': ['Boom Clap'],\n",
              "  'songurl': ['/wiki/Boom_Clap'],\n",
              "  'title': '\"Boom Clap',\n",
              "  'url': ['/wiki/Charli_XCX']},\n",
              " {'band_singer': ['Beyoncé', 'Jay-Z'],\n",
              "  'ranking': 35,\n",
              "  'song': ['Drunk in Love'],\n",
              "  'songurl': ['/wiki/Drunk_in_Love'],\n",
              "  'title': '\"Drunk in Love',\n",
              "  'url': ['/wiki/Beyonc%C3%A9', '/wiki/Jay-Z']},\n",
              " {'band_singer': ['Nicki Minaj'],\n",
              "  'ranking': 36,\n",
              "  'song': ['Anaconda'],\n",
              "  'songurl': ['/wiki/Anaconda_(Nicki_Minaj_song)'],\n",
              "  'title': '\"Anaconda',\n",
              "  'url': ['/wiki/Nicki_Minaj']},\n",
              " {'band_singer': ['Ariana Grande', 'Zedd'],\n",
              "  'ranking': 37,\n",
              "  'song': ['Break Free'],\n",
              "  'songurl': ['/wiki/Break_Free_(Ariana_Grande_song)'],\n",
              "  'title': '\"Break Free',\n",
              "  'url': ['/wiki/Ariana_Grande', '/wiki/Zedd']},\n",
              " {'band_singer': ['Enrique Iglesias', 'Descemer Bueno', 'Gente de Zona'],\n",
              "  'ranking': 38,\n",
              "  'song': ['Bailando'],\n",
              "  'songurl': ['/wiki/Bailando_(Enrique_Iglesias_song)'],\n",
              "  'title': '\"Bailando',\n",
              "  'url': ['/wiki/Enrique_Iglesias',\n",
              "   '/wiki/Descemer_Bueno',\n",
              "   '/wiki/Gente_de_Zona']},\n",
              " {'band_singer': ['Ellie Goulding'],\n",
              "  'ranking': 39,\n",
              "  'song': ['Burn'],\n",
              "  'songurl': ['/wiki/Burn_(Ellie_Goulding_song)'],\n",
              "  'title': '\"Burn',\n",
              "  'url': ['/wiki/Ellie_Goulding']},\n",
              " {'band_singer': ['Jason Derulo', 'Snoop Dogg'],\n",
              "  'ranking': 40,\n",
              "  'song': ['Wiggle'],\n",
              "  'songurl': ['/wiki/Wiggle_(song)'],\n",
              "  'title': '\"Wiggle',\n",
              "  'url': ['/wiki/Jason_Derulo', '/wiki/Snoop_Dogg']},\n",
              " {'band_singer': ['Clean Bandit', 'Jess Glynne'],\n",
              "  'ranking': 41,\n",
              "  'song': ['Rather Be'],\n",
              "  'songurl': ['/wiki/Rather_Be_(Clean_Bandit_song)'],\n",
              "  'title': '\"Rather Be',\n",
              "  'url': ['/wiki/Clean_Bandit', '/wiki/Jess_Glynne']},\n",
              " {'band_singer': ['Jeremih', 'YG'],\n",
              "  'ranking': 42,\n",
              "  'song': [\"Don't Tell 'Em\"],\n",
              "  'songurl': ['/wiki/Don%27t_Tell_%27Em'],\n",
              "  'title': '\"Don\\'t Tell \\'Em',\n",
              "  'url': ['/wiki/Jeremih', '/wiki/YG_(rapper)']},\n",
              " {'band_singer': ['Kid Ink', 'Chris Brown'],\n",
              "  'ranking': 43,\n",
              "  'song': ['Show Me'],\n",
              "  'songurl': ['/wiki/Show_Me_(Kid_Ink_song)'],\n",
              "  'title': '\"Show Me',\n",
              "  'url': ['/wiki/Kid_Ink', '/wiki/Chris_Brown']},\n",
              " {'band_singer': ['Miley Cyrus'],\n",
              "  'ranking': 44,\n",
              "  'song': ['Wrecking Ball'],\n",
              "  'songurl': ['/wiki/Wrecking_Ball_(Miley_Cyrus_song)'],\n",
              "  'title': '\"Wrecking Ball',\n",
              "  'url': ['/wiki/Miley_Cyrus']},\n",
              " {'band_singer': ['Justin Timberlake'],\n",
              "  'ranking': 45,\n",
              "  'song': ['Not a Bad Thing'],\n",
              "  'songurl': ['/wiki/Not_a_Bad_Thing'],\n",
              "  'title': '\"Not a Bad Thing',\n",
              "  'url': ['/wiki/Justin_Timberlake']},\n",
              " {'band_singer': ['Katy Perry'],\n",
              "  'ranking': 46,\n",
              "  'song': ['Roar'],\n",
              "  'songurl': ['/wiki/Roar_(song)'],\n",
              "  'title': '\"Roar',\n",
              "  'url': ['/wiki/Katy_Perry']},\n",
              " {'band_singer': ['Paramore'],\n",
              "  'ranking': 47,\n",
              "  'song': [\"Ain't It Fun\"],\n",
              "  'songurl': ['/wiki/Ain%27t_It_Fun_(Paramore_song)'],\n",
              "  'title': '\"Ain\\'t It Fun',\n",
              "  'url': ['/wiki/Paramore']},\n",
              " {'band_singer': ['Aloe Blacc'],\n",
              "  'ranking': 48,\n",
              "  'song': ['The Man'],\n",
              "  'songurl': ['/wiki/The_Man_(Aloe_Blacc_song)'],\n",
              "  'title': '\"The Man',\n",
              "  'url': ['/wiki/Aloe_Blacc']},\n",
              " {'band_singer': ['Florida Georgia Line', 'Luke Bryan'],\n",
              "  'ranking': 49,\n",
              "  'song': ['This Is How We Roll'],\n",
              "  'songurl': ['/wiki/This_Is_How_We_Roll'],\n",
              "  'title': '\"This Is How We Roll',\n",
              "  'url': ['/wiki/Florida_Georgia_Line', '/wiki/Luke_Bryan']},\n",
              " {'band_singer': ['MKTO'],\n",
              "  'ranking': 50,\n",
              "  'song': ['Classic'],\n",
              "  'songurl': ['/wiki/Classic_(MKTO_song)'],\n",
              "  'title': '\"Classic',\n",
              "  'url': ['/wiki/MKTO']},\n",
              " {'band_singer': ['Coldplay'],\n",
              "  'ranking': 51,\n",
              "  'song': ['A Sky Full of Stars'],\n",
              "  'songurl': ['/wiki/A_Sky_Full_of_Stars'],\n",
              "  'title': '\"A Sky Full of Stars',\n",
              "  'url': ['/wiki/Coldplay']},\n",
              " {'band_singer': ['Ed Sheeran'],\n",
              "  'ranking': 52,\n",
              "  'song': [\"Don't\"],\n",
              "  'songurl': ['/wiki/Don%27t_(Ed_Sheeran_song)'],\n",
              "  'title': '\"Don\\'t',\n",
              "  'url': ['/wiki/Ed_Sheeran']},\n",
              " {'band_singer': ['Trey Songz'],\n",
              "  'ranking': 53,\n",
              "  'song': ['Na Na'],\n",
              "  'songurl': ['/wiki/Na_Na_(song)'],\n",
              "  'title': '\"Na Na',\n",
              "  'url': ['/wiki/Trey_Songz']},\n",
              " {'band_singer': ['Bobby Shmurda'],\n",
              "  'ranking': 54,\n",
              "  'song': ['Hot Boy'],\n",
              "  'songurl': ['/wiki/Hot_Nigga'],\n",
              "  'title': '\"Hot Boy',\n",
              "  'url': ['/wiki/Bobby_Shmurda']},\n",
              " {'band_singer': ['Drake', 'Majid Jordan'],\n",
              "  'ranking': 55,\n",
              "  'song': [\"Hold On, We're Going Home\"],\n",
              "  'songurl': ['/wiki/Hold_On,_We%27re_Going_Home'],\n",
              "  'title': '\"Hold On, We\\'re Going Home',\n",
              "  'url': ['/wiki/Drake_(rapper)', '/wiki/Majid_Jordan']},\n",
              " {'band_singer': ['Ed Sheeran'],\n",
              "  'ranking': 56,\n",
              "  'song': ['Sing'],\n",
              "  'songurl': ['/wiki/Sing_(Ed_Sheeran_song)'],\n",
              "  'title': '\"Sing',\n",
              "  'url': ['/wiki/Ed_Sheeran']},\n",
              " {'band_singer': ['Imagine Dragons'],\n",
              "  'ranking': 57,\n",
              "  'song': ['Radioactive'],\n",
              "  'songurl': ['/wiki/Radioactive_(Imagine_Dragons_song)'],\n",
              "  'title': '\"Radioactive',\n",
              "  'url': ['/wiki/Imagine_Dragons']},\n",
              " {'band_singer': ['YG', 'Jeezy', 'Rich Homie Quan'],\n",
              "  'ranking': 58,\n",
              "  'song': ['My Hitta'],\n",
              "  'songurl': ['/wiki/My_Nigga'],\n",
              "  'title': '\"My Hitta',\n",
              "  'url': ['/wiki/YG_(rapper)', '/wiki/Jeezy', '/wiki/Rich_Homie_Quan']},\n",
              " {'band_singer': ['Echosmith'],\n",
              "  'ranking': 59,\n",
              "  'song': ['Cool Kids'],\n",
              "  'songurl': ['/wiki/Cool_Kids_(Echosmith_song)'],\n",
              "  'title': '\"Cool Kids',\n",
              "  'url': ['/wiki/Echosmith']},\n",
              " {'band_singer': ['Avicii'],\n",
              "  'ranking': 60,\n",
              "  'song': ['Hey Brother'],\n",
              "  'songurl': ['/wiki/Hey_Brother'],\n",
              "  'title': '\"Hey Brother',\n",
              "  'url': ['/wiki/Avicii']},\n",
              " {'band_singer': ['Jason Derulo'],\n",
              "  'ranking': 61,\n",
              "  'song': ['Trumpets'],\n",
              "  'songurl': ['/wiki/Trumpets_(Jason_Derulo_song)'],\n",
              "  'title': '\"Trumpets',\n",
              "  'url': ['/wiki/Jason_Derulo']},\n",
              " {'band_singer': ['Maroon 5'],\n",
              "  'ranking': 62,\n",
              "  'song': ['Animals'],\n",
              "  'songurl': ['/wiki/Animals_(Maroon_5_song)'],\n",
              "  'title': '\"Animals',\n",
              "  'url': ['/wiki/Maroon_5']},\n",
              " {'band_singer': ['Jason Aldean'],\n",
              "  'ranking': 63,\n",
              "  'song': [\"Burnin' It Down\"],\n",
              "  'songurl': ['/wiki/Burnin%27_It_Down'],\n",
              "  'title': '\"Burnin\\' It Down',\n",
              "  'url': ['/wiki/Jason_Aldean']},\n",
              " {'band_singer': ['Luke Bryan'],\n",
              "  'ranking': 64,\n",
              "  'song': ['Play It Again'],\n",
              "  'songurl': ['/wiki/Play_It_Again_(Luke_Bryan_song)'],\n",
              "  'title': '\"Play It Again',\n",
              "  'url': ['/wiki/Luke_Bryan']},\n",
              " {'band_singer': ['Tinashe', 'ScHoolboy Q'],\n",
              "  'ranking': 65,\n",
              "  'song': ['2 On'],\n",
              "  'songurl': ['/wiki/2_On'],\n",
              "  'title': '\"2 On',\n",
              "  'url': ['/wiki/Tinashe', '/wiki/ScHoolboy_Q']},\n",
              " {'band_singer': ['Florida Georgia Line'],\n",
              "  'ranking': 66,\n",
              "  'song': ['Dirt'],\n",
              "  'songurl': ['/wiki/Dirt_(Florida_Georgia_Line_song)'],\n",
              "  'title': '\"Dirt',\n",
              "  'url': ['/wiki/Florida_Georgia_Line']},\n",
              " {'band_singer': ['OneRepublic'],\n",
              "  'ranking': 67,\n",
              "  'song': ['Love Runs Out'],\n",
              "  'songurl': ['/wiki/Love_Runs_Out'],\n",
              "  'title': '\"Love Runs Out',\n",
              "  'url': ['/wiki/OneRepublic']},\n",
              " {'band_singer': ['Brantley Gilbert'],\n",
              "  'ranking': 68,\n",
              "  'song': ['Bottoms Up'],\n",
              "  'songurl': ['/wiki/Bottoms_Up_(Brantley_Gilbert_song)'],\n",
              "  'title': '\"Bottoms Up',\n",
              "  'url': ['/wiki/Brantley_Gilbert']},\n",
              " {'band_singer': ['Becky G'],\n",
              "  'ranking': 69,\n",
              "  'song': ['Shower'],\n",
              "  'songurl': ['/wiki/Shower_(song)'],\n",
              "  'title': '\"Shower',\n",
              "  'url': ['/wiki/Becky_G']},\n",
              " {'band_singer': ['Rixton'],\n",
              "  'ranking': 70,\n",
              "  'song': ['Me and My Broken Heart'],\n",
              "  'songurl': ['/wiki/Me_and_My_Broken_Heart'],\n",
              "  'title': '\"Me and My Broken Heart',\n",
              "  'url': ['/wiki/Rixton_(band)']},\n",
              " {'band_singer': ['Martin Garrix'],\n",
              "  'ranking': 71,\n",
              "  'song': ['Animals'],\n",
              "  'songurl': ['/wiki/Animals_(Martin_Garrix_composition)'],\n",
              "  'title': '\"Animals',\n",
              "  'url': ['/wiki/Martin_Garrix']},\n",
              " {'band_singer': ['Rich Gang', 'Young Thug', 'Rich Homie Quan'],\n",
              "  'ranking': 72,\n",
              "  'song': ['Lifestyle'],\n",
              "  'songurl': ['/wiki/Lifestyle_(song)'],\n",
              "  'title': '\"Lifestyle',\n",
              "  'url': ['/wiki/Rich_Gang', '/wiki/Young_Thug', '/wiki/Rich_Homie_Quan']},\n",
              " {'band_singer': ['Kenny Chesney'],\n",
              "  'ranking': 73,\n",
              "  'song': ['American Kids'],\n",
              "  'songurl': ['/wiki/American_Kids'],\n",
              "  'title': '\"American Kids',\n",
              "  'url': ['/wiki/Kenny_Chesney']},\n",
              " {'band_singer': ['Sara Bareilles'],\n",
              "  'ranking': 74,\n",
              "  'song': ['Brave'],\n",
              "  'songurl': ['/wiki/Brave_(Sara_Bareilles_song)'],\n",
              "  'title': '\"Brave',\n",
              "  'url': ['/wiki/Sara_Bareilles']},\n",
              " {'band_singer': ['The Neighbourhood'],\n",
              "  'ranking': 75,\n",
              "  'song': ['Sweater Weather'],\n",
              "  'songurl': ['/wiki/Sweater_Weather'],\n",
              "  'title': '\"Sweater Weather',\n",
              "  'url': ['/wiki/The_Neighbourhood']},\n",
              " {'band_singer': ['Sam Hunt'],\n",
              "  'ranking': 76,\n",
              "  'song': ['Leave the Night On'],\n",
              "  'songurl': ['/wiki/Leave_the_Night_On'],\n",
              "  'title': '\"Leave the Night On',\n",
              "  'url': ['/wiki/Sam_Hunt']},\n",
              " {'band_singer': ['Chris Brown', 'Usher', 'Rick Ross'],\n",
              "  'ranking': 77,\n",
              "  'song': ['New Flame'],\n",
              "  'songurl': ['/wiki/New_Flame'],\n",
              "  'title': '\"New Flame',\n",
              "  'url': ['/wiki/Chris_Brown', '/wiki/Usher_(musician)', '/wiki/Rick_Ross']},\n",
              " {'band_singer': ['Michael Jackson', 'Justin Timberlake'],\n",
              "  'ranking': 78,\n",
              "  'song': ['Love Never Felt So Good'],\n",
              "  'songurl': ['/wiki/Love_Never_Felt_So_Good'],\n",
              "  'title': '\"Love Never Felt So Good',\n",
              "  'url': ['/wiki/Michael_Jackson', '/wiki/Justin_Timberlake']},\n",
              " {'band_singer': ['Dierks Bentley'],\n",
              "  'ranking': 79,\n",
              "  'song': ['Drunk on a Plane'],\n",
              "  'songurl': ['/wiki/Drunk_on_a_Plane'],\n",
              "  'title': '\"Drunk on a Plane',\n",
              "  'url': ['/wiki/Dierks_Bentley']},\n",
              " {'band_singer': ['Katy Perry'],\n",
              "  'ranking': 80,\n",
              "  'song': ['Birthday'],\n",
              "  'songurl': ['/wiki/Birthday_(Katy_Perry_song)'],\n",
              "  'title': '\"Birthday',\n",
              "  'url': ['/wiki/Katy_Perry']},\n",
              " {'band_singer': ['Lady Antebellum'],\n",
              "  'ranking': 81,\n",
              "  'song': ['Bartender'],\n",
              "  'songurl': ['/wiki/Bartender_(Lady_Antebellum_song)'],\n",
              "  'title': '\"Bartender',\n",
              "  'url': ['/wiki/Lady_Antebellum']},\n",
              " {'band_singer': ['Naughty Boy', 'Sam Smith'],\n",
              "  'ranking': 82,\n",
              "  'song': ['La La La'],\n",
              "  'songurl': ['/wiki/La_La_La_(Naughty_Boy_song)'],\n",
              "  'title': '\"La La La',\n",
              "  'url': ['/wiki/Naughty_Boy', '/wiki/Sam_Smith_(singer)']},\n",
              " {'band_singer': ['Robin Thicke', 'T.I.', 'Pharrell Williams'],\n",
              "  'ranking': 83,\n",
              "  'song': ['Blurred Lines'],\n",
              "  'songurl': ['/wiki/Blurred_Lines'],\n",
              "  'title': '\"Blurred Lines',\n",
              "  'url': ['/wiki/Robin_Thicke', '/wiki/T.I.', '/wiki/Pharrell_Williams']},\n",
              " {'band_singer': ['Lady Gaga', 'R. Kelly'],\n",
              "  'ranking': 84,\n",
              "  'song': ['Do What U Want'],\n",
              "  'songurl': ['/wiki/Do_What_U_Want'],\n",
              "  'title': '\"Do What U Want',\n",
              "  'url': ['/wiki/Lady_Gaga', '/wiki/R._Kelly']},\n",
              " {'band_singer': ['Shakira', 'Rihanna'],\n",
              "  'ranking': 85,\n",
              "  'song': [\"Can't Remember to Forget You\"],\n",
              "  'songurl': ['/wiki/Can%27t_Remember_to_Forget_You'],\n",
              "  'title': '\"Can\\'t Remember to Forget You',\n",
              "  'url': ['/wiki/Shakira', '/wiki/Rihanna']},\n",
              " {'band_singer': ['5 Seconds of Summer'],\n",
              "  'ranking': 86,\n",
              "  'song': ['Amnesia'],\n",
              "  'songurl': ['/wiki/Amnesia_(5_Seconds_of_Summer_song)'],\n",
              "  'title': '\"Amnesia',\n",
              "  'url': ['/wiki/5_Seconds_of_Summer']},\n",
              " {'band_singer': ['T.I.', 'Iggy Azalea'],\n",
              "  'ranking': 87,\n",
              "  'song': ['No Mediocre'],\n",
              "  'songurl': ['/wiki/No_Mediocre'],\n",
              "  'title': '\"No Mediocre',\n",
              "  'url': ['/wiki/T.I.', '/wiki/Iggy_Azalea']},\n",
              " {'band_singer': ['KONGOS'],\n",
              "  'ranking': 88,\n",
              "  'song': ['Come with Me Now'],\n",
              "  'songurl': ['/wiki/Come_with_Me_Now'],\n",
              "  'title': '\"Come with Me Now',\n",
              "  'url': ['/wiki/Kongos_(band)']},\n",
              " {'band_singer': ['Lil Wayne', 'Drake'],\n",
              "  'ranking': 89,\n",
              "  'song': ['Believe Me'],\n",
              "  'songurl': ['/wiki/Believe_Me_(Lil_Wayne_song)'],\n",
              "  'title': '\"Believe Me',\n",
              "  'url': ['/wiki/Lil_Wayne', '/wiki/Drake_(rapper)']},\n",
              " {'band_singer': ['Mike WiLL Made-It',\n",
              "   'Miley Cyrus',\n",
              "   'Wiz Khalifa',\n",
              "   'Juicy J'],\n",
              "  'ranking': 90,\n",
              "  'song': ['23'],\n",
              "  'songurl': ['/wiki/23_(song)'],\n",
              "  'title': '\"23',\n",
              "  'url': ['/wiki/Mike_Will_Made_It',\n",
              "   '/wiki/Miley_Cyrus',\n",
              "   '/wiki/Wiz_Khalifa',\n",
              "   '/wiki/Juicy_J']},\n",
              " {'band_singer': ['Jake Owen'],\n",
              "  'ranking': 91,\n",
              "  'song': [\"Beachin'\"],\n",
              "  'songurl': ['/wiki/Beachin%27'],\n",
              "  'title': '\"Beachin\\'',\n",
              "  'url': ['/wiki/Jake_Owen']},\n",
              " {'band_singer': ['Macklemore & Ryan Lewis', 'ScHoolboy Q', 'Hollis'],\n",
              "  'ranking': 92,\n",
              "  'song': ['White Walls'],\n",
              "  'songurl': ['/wiki/White_Walls'],\n",
              "  'title': '\"White Walls',\n",
              "  'url': ['/wiki/Macklemore_%26_Ryan_Lewis',\n",
              "   '/wiki/ScHoolboy_Q',\n",
              "   '/wiki/Hollis_(singer)']},\n",
              " {'band_singer': ['5 Seconds of Summer'],\n",
              "  'ranking': 93,\n",
              "  'song': ['She Looks So Perfect'],\n",
              "  'songurl': ['/wiki/She_Looks_So_Perfect'],\n",
              "  'title': '\"She Looks So Perfect',\n",
              "  'url': ['/wiki/5_Seconds_of_Summer']},\n",
              " {'band_singer': ['Zedd', 'Hayley Williams'],\n",
              "  'ranking': 94,\n",
              "  'song': ['Stay the Night'],\n",
              "  'songurl': ['/wiki/Stay_the_Night_(Zedd_song)'],\n",
              "  'title': '\"Stay the Night',\n",
              "  'url': ['/wiki/Zedd', '/wiki/Hayley_Williams']},\n",
              " {'band_singer': ['Beyoncé'],\n",
              "  'ranking': 95,\n",
              "  'song': ['Partition'],\n",
              "  'songurl': ['/wiki/Partition_(song)'],\n",
              "  'title': '\"Partition',\n",
              "  'url': ['/wiki/Beyonc%C3%A9']},\n",
              " {'band_singer': ['ScHoolboy Q', 'BJ the Chicago Kid'],\n",
              "  'ranking': 96,\n",
              "  'song': ['Studio'],\n",
              "  'songurl': ['/wiki/Studio_(song)'],\n",
              "  'title': '\"Studio',\n",
              "  'url': ['/wiki/ScHoolboy_Q', '/wiki/BJ_the_Chicago_Kid']},\n",
              " {'band_singer': ['Drake'],\n",
              "  'ranking': 97,\n",
              "  'song': ['0 to 100 / The Catch Up'],\n",
              "  'songurl': ['/wiki/0_to_100_/_The_Catch_Up'],\n",
              "  'title': '\"0 to 100 / The Catch Up',\n",
              "  'url': ['/wiki/Drake_(rapper)']},\n",
              " {'band_singer': ['Lee Brice'],\n",
              "  'ranking': 98,\n",
              "  'song': [\"I Don't Dance\"],\n",
              "  'songurl': ['/wiki/I_Don%27t_Dance_(Lee_Brice_song)'],\n",
              "  'title': '\"I Don\\'t Dance',\n",
              "  'url': ['/wiki/Lee_Brice']},\n",
              " {'band_singer': ['Miranda Lambert', 'Carrie Underwood'],\n",
              "  'ranking': 99,\n",
              "  'song': [\"Somethin' Bad\"],\n",
              "  'songurl': ['/wiki/Somethin%27_Bad'],\n",
              "  'title': '\"Somethin\\' Bad',\n",
              "  'url': ['/wiki/Miranda_Lambert', '/wiki/Carrie_Underwood']},\n",
              " {'band_singer': ['Miley Cyrus'],\n",
              "  'ranking': 100,\n",
              "  'song': ['Adore You'],\n",
              "  'songurl': ['/wiki/Adore_You_(Miley_Cyrus_song)'],\n",
              "  'title': '\"Adore You',\n",
              "  'url': ['/wiki/Miley_Cyrus']}]"
            ]
          },
          "metadata": {
            "tags": []
          },
          "execution_count": 5
        }
      ]
    },
    {
      "cell_type": "code",
      "metadata": {
        "colab": {
          "base_uri": "https://localhost:8080/"
        },
        "id": "eXQf5E8aRTao",
        "outputId": "d59c09bb-bb3b-4e80-fd75-e400abd64810"
      },
      "source": [
        "print(len(parse_year(2014,yearstext)))"
      ],
      "execution_count": null,
      "outputs": [
        {
          "output_type": "stream",
          "text": [
            "100\n"
          ],
          "name": "stdout"
        }
      ]
    },
    {
      "cell_type": "markdown",
      "metadata": {
        "id": "gW3RMZMd-Q4R"
      },
      "source": [
        "#### Helpful notes\n",
        "\n",
        "Notice that some singles might have multiple songs:\n",
        "\n",
        "```\n",
        "{'band_singer': ['Jewel'],\n",
        "  'ranking': 2,\n",
        "  'song': ['Foolish Games', 'You Were Meant for Me'],\n",
        "  'songurl': ['/wiki/Foolish_Games',\n",
        "   '/wiki/You_Were_Meant_for_Me_(Jewel_song)'],\n",
        "  'titletext': '\" Foolish Games \" / \" You Were Meant for Me \"',\n",
        "  'url': ['/wiki/Jewel_(singer)']}\n",
        "```"
      ]
    },
    {
      "cell_type": "markdown",
      "metadata": {
        "id": "KaWpyQoF-Q4R"
      },
      "source": [
        "And some singles don't have a song URL:\n",
        "\n",
        "```\n",
        "{'band_singer': [u'Nu Flavor'],\n",
        "  'ranking': 91,\n",
        "  'song': [u'Heaven'],\n",
        "  'songurl': [None],\n",
        "  'titletext': u'\"Heaven\"',\n",
        "  'url': [u'/wiki/Nu_Flavor']}\n",
        "```"
      ]
    },
    {
      "cell_type": "markdown",
      "metadata": {
        "id": "Zz-IDfbC-Q4R"
      },
      "source": [
        "Thus there are some issues this function must handle:\n",
        "\n",
        "1. There can be more than one  `band_singer` as can be seen above (sometimes with a comma, sometimes with \"featuring\" in between). The best way to parse these is to look for the urls.\n",
        "2. There can be two songs in a single, because of the way the industry works: there are two-sided singles. See https://en.wikipedia.org/wiki/Billboard_Year-End_Hot_100_singles_of_1997 for an example. You can find other examples in 1998 and 1999.\n",
        "3. The `titletext` is the contents of the table cell, and retains the quotes that Wikipedia puts on the single.\n",
        "4. If no song anchor is found (see the 24th song in the above url), assume there is one song in the single, set `songurl` to [`None`] and the song name to the contents of the table cell with the quotes stripped (ie `song` is a one-element list with this the `titletext` stripped of its quotes)."
      ]
    },
    {
      "cell_type": "markdown",
      "metadata": {
        "id": "Bn7il1vS-Q4R"
      },
      "source": [
        "As a check, we can do this for 1997. We'll print the first 5 outputs: `parse_year(1997, yearstext)[:5]`"
      ]
    },
    {
      "cell_type": "markdown",
      "metadata": {
        "id": "xvh4XzsK-Q4R"
      },
      "source": [
        "This should give the following. Notice that the year 1997 exercises the edge cases we talked about earlier."
      ]
    },
    {
      "cell_type": "markdown",
      "metadata": {
        "id": "KKfeIp9_-Q4R"
      },
      "source": [
        "```\n",
        "[{'band_singer': ['Elton John'],\n",
        "  'ranking': 1,\n",
        "  'song': ['Something About the Way You Look Tonight',\n",
        "   'Candle in the Wind 1997'],\n",
        "  'songurl': ['/wiki/Something_About_the_Way_You_Look_Tonight',\n",
        "   '/wiki/Candle_in_the_Wind_1997'],\n",
        "  'titletext': '\" Something About the Way You Look Tonight \" / \" Candle in the Wind 1997 \"',\n",
        "  'url': ['/wiki/Elton_John']},\n",
        " {'band_singer': ['Jewel'],\n",
        "  'ranking': 2,\n",
        "  'song': ['Foolish Games', 'You Were Meant for Me'],\n",
        "  'songurl': ['/wiki/Foolish_Games',\n",
        "   '/wiki/You_Were_Meant_for_Me_(Jewel_song)'],\n",
        "  'titletext': '\" Foolish Games \" / \" You Were Meant for Me \"',\n",
        "  'url': ['/wiki/Jewel_(singer)']},\n",
        " {'band_singer': ['Puff Daddy', 'Faith Evans', '112'],\n",
        "  'ranking': 3,\n",
        "  'song': [\"I'll Be Missing You\"],\n",
        "  'songurl': ['/wiki/I%27ll_Be_Missing_You'],\n",
        "  'titletext': '\" I\\'ll Be Missing You \"',\n",
        "  'url': ['/wiki/Sean_Combs', '/wiki/Faith_Evans', '/wiki/112_(band)']},\n",
        " {'band_singer': ['Toni Braxton'],\n",
        "  'ranking': 4,\n",
        "  'song': ['Un-Break My Heart'],\n",
        "  'songurl': ['/wiki/Un-Break_My_Heart'],\n",
        "  'titletext': '\" Un-Break My Heart \"',\n",
        "  'url': ['/wiki/Toni_Braxton']},\n",
        " {'band_singer': ['Puff Daddy', 'Mase'],\n",
        "  'ranking': 5,\n",
        "  'song': [\"Can't Nobody Hold Me Down\"],\n",
        "  'songurl': ['/wiki/Can%27t_Nobody_Hold_Me_Down'],\n",
        "  'titletext': '\" Can\\'t Nobody Hold Me Down \"',\n",
        "  'url': ['/wiki/Sean_Combs', '/wiki/Mase']}]\n",
        "```"
      ]
    },
    {
      "cell_type": "markdown",
      "metadata": {
        "id": "18QNeZAb-Q4R"
      },
      "source": [
        "#### Save a json file of information from the scraped files"
      ]
    },
    {
      "cell_type": "markdown",
      "metadata": {
        "id": "AkVxWb33-Q4R"
      },
      "source": [
        "We do not want to lose all this work, so let's save the last data structure we created to disk. That way if you need to re-run from here, you don't need to redo all these requests and parsing. \n",
        "\n",
        "DO NOT RERUN THE HTTP REQUESTS TO WIKIPEDIA WHEN SUBMITTING.\n",
        "\n",
        "*We **DO NOT** need to see these JSON files in your submission!*"
      ]
    },
    {
      "cell_type": "code",
      "metadata": {
        "id": "aVv6AbQP-Q4R"
      },
      "source": [
        "import json"
      ],
      "execution_count": null,
      "outputs": []
    },
    {
      "cell_type": "code",
      "metadata": {
        "id": "Q_mqWJQk-Q4R",
        "scrolled": false
      },
      "source": [
        "# DO NOT RERUN THIS CELL WHEN SUBMITTING\n",
        "for theyear in range(1992,2015):\n",
        "  yearinfo = parse_year(theyear, yearstext)\n",
        "  fd = open(\"yearinfo\"+f\"{theyear}\"+\".json\",\"w\")\n",
        "  json.dump(yearinfo, fd)\n",
        "  fd.close()"
      ],
      "execution_count": null,
      "outputs": []
    },
    {
      "cell_type": "markdown",
      "metadata": {
        "id": "qjl6E_12-Q4R"
      },
      "source": [
        "Now let's reload our JSON file into the yearinfo variable, just to be sure everything is working."
      ]
    },
    {
      "cell_type": "code",
      "metadata": {
        "colab": {
          "base_uri": "https://localhost:8080/"
        },
        "id": "IUIgSFD0-Q4R",
        "scrolled": true,
        "outputId": "0cbabd8e-1afa-4cdd-e203-c44c58022361"
      },
      "source": [
        "# RERUN WHEN SUBMITTING\n",
        "# Another way to deal with files. Has the advantage of closing the file for you.\n",
        "yearinfo = []\n",
        "for theyear in range(1992,2015):\n",
        "  with open(\"yearinfo\"+f\"{theyear}\"+\".json\",\"r\") as fd:\n",
        "    yearinfo += json.load(fd)\n",
        "\n",
        "print(len(yearinfo))"
      ],
      "execution_count": null,
      "outputs": [
        {
          "output_type": "stream",
          "text": [
            "2300\n"
          ],
          "name": "stdout"
        }
      ]
    },
    {
      "cell_type": "markdown",
      "metadata": {
        "id": "WFUX-cfj-Q4R"
      },
      "source": [
        "#### 1.4 Construct a year-song-singer dataframe from the yearly information"
      ]
    },
    {
      "cell_type": "markdown",
      "metadata": {
        "id": "vEwAUH_h-Q4R"
      },
      "source": [
        "Let's construct a dataframe `flatframe` from the `yearinfo`. The frame should be similar to the frame below.  Each row of the frame represents a song, and carries with it the chief properties of year, song, singer, and ranking.\n",
        "\n",
        "![](https://raw.githubusercontent.com/cs109/a-2017/master/hwassets/images/HW1SC1.png)"
      ]
    },
    {
      "cell_type": "markdown",
      "metadata": {
        "id": "Et85xZik-Q4R"
      },
      "source": [
        "To construct the dataframe, we'll need to iterate over the years and the singles per year. Notice how, above, the dataframe is ordered by ranking and then year. While the exact order is up to you, note that you will have to come up with a scheme to order the information.\n",
        "\n",
        "Check that the dataframe has sensible data types. You will also likely find that the year field has become an \"object\" (Pandas treats strings as generic objects): this is due to the conversion to and back from JSON. Such conversions need special care. Fix any data type issues with `flatframe`. (See Pandas [astype](http://pandas.pydata.org/pandas-docs/stable/generated/pandas.DataFrame.astype.html) function.) \n",
        "We will use this `flatframe` in the next question. \n",
        "\n",
        "(As an aside, we used the name `flatframe` to indicate that this dataframe is flattened from a hierarchical dictionary structure with the keys being the years.)"
      ]
    },
    {
      "cell_type": "code",
      "metadata": {
        "colab": {
          "base_uri": "https://localhost:8080/",
          "height": 419
        },
        "id": "eYHVrvdj2i9t",
        "outputId": "13d08546-77db-4e3d-fa18-6a5de08e0441"
      },
      "source": [
        "# for years in range(1992,2015):\n",
        "#   flatframe = pd.DataFrame(yearinfo)\n",
        "#   flatframe['year'] = years\n",
        "# print((flatframe))\n",
        "yr_list = [] # need to make whole year list\n",
        "y_number = 1992 \n",
        "for i in range(0,2300,100):\n",
        "  temp_list = []  \n",
        "  temp_list = [y_number] * 100  # every_number y_numberear counts for 100 values as each \n",
        "  y_number += 1\n",
        "  yr_list += temp_list\n",
        "  \n",
        "flatframe = pd.DataFrame(yearinfo)\n",
        "flatframe['year'] = yr_list\n",
        "# flatframe.sort_values(['ranking', 'year'], ascending=[True, True],inplace = True)\n",
        "# flatframe.reset_index(inplace = True)\n",
        "# flatframe = flatframe.drop(\"index\",axis=1)\n",
        "# flatframe['ranking'] = flatframe['ranking'].astype(float) \n",
        "# flatframe['year'] = flatframe['year'].astype(str)\n",
        "# flatframe = flatframe[[\"year\",\"band_singer\",\"ranking\",\"song\",\"songurl\",\"title\",\"url\"]]\n",
        "# flatframe = flatframe.drop(\"title\",axis=1)\n",
        "\n",
        "# flatframe['band_singer'] = [','.join(map(str, l)) for l in flatframe['band_singer']]\n",
        "# flatframe = flatframe.assign(band_singer=flatframe.band_singer.str.split(\",\")).explode('band_singer')\n",
        "# # flatframe.assign(band_singer=flatframe.band_singer.str.split(\",\")).explode('band_singer')\n",
        "# # flatframe['song'] = [','.join(map(str, l)) for l in flatframe['song']]\n",
        "# # flatframe['songurl'] = [','.join(map(str, l)) for l in flatframe['songurl']]\n",
        "# flatframe['url'] = [','.join(map(str, l)) for l in flatframe['url']]\n",
        "# flatframe =flatframe.assign(url=flatframe.url.str.split(\",\")).explode('url')\n",
        "# # flatframe['liststring'] = flatframe.band_singer.apply(lambda x: ', '.join([str(i) for i in x]))\n",
        "# flatframe.reset_index(inplace = True)\n",
        "# flatframe = flatframe.drop(\"index\",axis=1)\n",
        "\n",
        "final_year = []\n",
        "final_bandsinger =[]\n",
        "final_ranking =[]\n",
        "final_song = []\n",
        "final_songurl = []\n",
        "final_url = []\n",
        "for k in range(2300):\n",
        "  band = flatframe.band_singer.loc[k]\n",
        "  year = flatframe.year.loc[k]\n",
        "  url = flatframe.url.loc[k]\n",
        "  ranking = flatframe.ranking.loc[k]\n",
        "  song = flatframe.song.loc[k]\n",
        "  songurl = flatframe.songurl.loc[k]\n",
        "  if len(band)==len(url):\n",
        "    for i,j in zip(band,url):\n",
        "      final_bandsinger.append(i)\n",
        "      final_url.append(j)\n",
        "\n",
        "  # final_year.insert(k,year)\n",
        "  # final_ranking.insert(k,ranking)\n",
        "  # final_song.insert(k,song)\n",
        "  # final_songurl.insert(k,songurl)\n",
        "  final_year += [year]*len(band)\n",
        "  final_ranking += [ranking] * len(band)\n",
        "  final_song += [song] * len(band)\n",
        "  final_songurl += [songurl] * len(band)\n",
        "  # for j in url:\n",
        "  #   if j == None:\n",
        "  #     final_url.append(None)\n",
        "  #   else:\n",
        "      \n",
        "# print(len(final_bandsinger))\n",
        "# print(len(final_year))\n",
        "# print(len(final_ranking))\n",
        "# print(len(final_song))\n",
        "# print(len(final_songurl))\n",
        "# print(len(final_url))\n",
        "# print((final_year[2986]))\n",
        "# print((final_ranking[2986]))\n",
        "# print((final_song[2986]))\n",
        "# print((final_songurl[2986]))\n",
        "# print((final_url[2986]))\n",
        "\n",
        "flatframe_new = {'year':final_year , 'band_singer':final_bandsinger , 'ranking':final_ranking ,'song':final_song , 'songurl':final_songurl,'url':final_url}\n",
        "flatframe = pd.DataFrame(flatframe_new)\n",
        "flatframe.sort_values(['ranking', 'year'], ascending=[True, True],inplace = True)\n",
        "flatframe.reset_index(inplace = True)\n",
        "flatframe = flatframe.drop(\"index\",axis=1)\n",
        "flatframe['ranking'] = flatframe['ranking'].astype(float) \n",
        "flatframe['year'] = flatframe['year'].astype(str)\n",
        "flatframe = flatframe[[\"year\",\"band_singer\",\"ranking\",\"song\",\"songurl\",\"url\"]]\n",
        "flatframe['song'] = [','.join(map(str, l)) for l in flatframe['song']]\n",
        "flatframe['songurl'] = [','.join(map(str, l)) for l in flatframe['songurl']]\n",
        "flatframe"
      ],
      "execution_count": null,
      "outputs": [
        {
          "output_type": "execute_result",
          "data": {
            "text/html": [
              "<div>\n",
              "<style scoped>\n",
              "    .dataframe tbody tr th:only-of-type {\n",
              "        vertical-align: middle;\n",
              "    }\n",
              "\n",
              "    .dataframe tbody tr th {\n",
              "        vertical-align: top;\n",
              "    }\n",
              "\n",
              "    .dataframe thead th {\n",
              "        text-align: right;\n",
              "    }\n",
              "</style>\n",
              "<table border=\"1\" class=\"dataframe\">\n",
              "  <thead>\n",
              "    <tr style=\"text-align: right;\">\n",
              "      <th></th>\n",
              "      <th>year</th>\n",
              "      <th>band_singer</th>\n",
              "      <th>ranking</th>\n",
              "      <th>song</th>\n",
              "      <th>songurl</th>\n",
              "      <th>url</th>\n",
              "    </tr>\n",
              "  </thead>\n",
              "  <tbody>\n",
              "    <tr>\n",
              "      <th>0</th>\n",
              "      <td>1992</td>\n",
              "      <td>Boyz II Men</td>\n",
              "      <td>1.0</td>\n",
              "      <td>End of the Road</td>\n",
              "      <td>/wiki/End_of_the_Road_(Boyz_II_Men_song)</td>\n",
              "      <td>/wiki/Boyz_II_Men</td>\n",
              "    </tr>\n",
              "    <tr>\n",
              "      <th>1</th>\n",
              "      <td>1993</td>\n",
              "      <td>Whitney Houston</td>\n",
              "      <td>1.0</td>\n",
              "      <td>I Will Always Love You</td>\n",
              "      <td>/wiki/I_Will_Always_Love_You#Whitney_Houston_v...</td>\n",
              "      <td>/wiki/Whitney_Houston</td>\n",
              "    </tr>\n",
              "    <tr>\n",
              "      <th>2</th>\n",
              "      <td>1994</td>\n",
              "      <td>Ace of Base</td>\n",
              "      <td>1.0</td>\n",
              "      <td>The Sign</td>\n",
              "      <td>/wiki/The_Sign_(song)</td>\n",
              "      <td>/wiki/Ace_of_Base</td>\n",
              "    </tr>\n",
              "    <tr>\n",
              "      <th>3</th>\n",
              "      <td>1995</td>\n",
              "      <td>Coolio</td>\n",
              "      <td>1.0</td>\n",
              "      <td>Gangsta's Paradise</td>\n",
              "      <td>/wiki/Gangsta%27s_Paradise</td>\n",
              "      <td>/wiki/Coolio</td>\n",
              "    </tr>\n",
              "    <tr>\n",
              "      <th>4</th>\n",
              "      <td>1995</td>\n",
              "      <td>L.V.</td>\n",
              "      <td>1.0</td>\n",
              "      <td>Gangsta's Paradise</td>\n",
              "      <td>/wiki/Gangsta%27s_Paradise</td>\n",
              "      <td>/wiki/L.V._(singer)</td>\n",
              "    </tr>\n",
              "    <tr>\n",
              "      <th>...</th>\n",
              "      <td>...</td>\n",
              "      <td>...</td>\n",
              "      <td>...</td>\n",
              "      <td>...</td>\n",
              "      <td>...</td>\n",
              "      <td>...</td>\n",
              "    </tr>\n",
              "    <tr>\n",
              "      <th>2982</th>\n",
              "      <td>2011</td>\n",
              "      <td>Big Sean</td>\n",
              "      <td>100.0</td>\n",
              "      <td>My Last</td>\n",
              "      <td>/wiki/My_Last</td>\n",
              "      <td>/wiki/Big_Sean</td>\n",
              "    </tr>\n",
              "    <tr>\n",
              "      <th>2983</th>\n",
              "      <td>2011</td>\n",
              "      <td>Chris Brown</td>\n",
              "      <td>100.0</td>\n",
              "      <td>My Last</td>\n",
              "      <td>/wiki/My_Last</td>\n",
              "      <td>/wiki/Chris_Brown</td>\n",
              "    </tr>\n",
              "    <tr>\n",
              "      <th>2984</th>\n",
              "      <td>2012</td>\n",
              "      <td>Linkin Park</td>\n",
              "      <td>100.0</td>\n",
              "      <td>Burn It Down</td>\n",
              "      <td>/wiki/Burn_It_Down_(Linkin_Park_song)</td>\n",
              "      <td>/wiki/Linkin_Park</td>\n",
              "    </tr>\n",
              "    <tr>\n",
              "      <th>2985</th>\n",
              "      <td>2013</td>\n",
              "      <td>Paramore</td>\n",
              "      <td>100.0</td>\n",
              "      <td>Still Into You</td>\n",
              "      <td>/wiki/Still_Into_You</td>\n",
              "      <td>/wiki/Paramore</td>\n",
              "    </tr>\n",
              "    <tr>\n",
              "      <th>2986</th>\n",
              "      <td>2014</td>\n",
              "      <td>Miley Cyrus</td>\n",
              "      <td>100.0</td>\n",
              "      <td>Adore You</td>\n",
              "      <td>/wiki/Adore_You_(Miley_Cyrus_song)</td>\n",
              "      <td>/wiki/Miley_Cyrus</td>\n",
              "    </tr>\n",
              "  </tbody>\n",
              "</table>\n",
              "<p>2987 rows × 6 columns</p>\n",
              "</div>"
            ],
            "text/plain": [
              "      year      band_singer  ranking                    song                                            songurl                    url\n",
              "0     1992      Boyz II Men      1.0         End of the Road           /wiki/End_of_the_Road_(Boyz_II_Men_song)      /wiki/Boyz_II_Men\n",
              "1     1993  Whitney Houston      1.0  I Will Always Love You  /wiki/I_Will_Always_Love_You#Whitney_Houston_v...  /wiki/Whitney_Houston\n",
              "2     1994      Ace of Base      1.0                The Sign                              /wiki/The_Sign_(song)      /wiki/Ace_of_Base\n",
              "3     1995           Coolio      1.0      Gangsta's Paradise                         /wiki/Gangsta%27s_Paradise           /wiki/Coolio\n",
              "4     1995             L.V.      1.0      Gangsta's Paradise                         /wiki/Gangsta%27s_Paradise    /wiki/L.V._(singer)\n",
              "...    ...              ...      ...                     ...                                                ...                    ...\n",
              "2982  2011         Big Sean    100.0                 My Last                                      /wiki/My_Last         /wiki/Big_Sean\n",
              "2983  2011      Chris Brown    100.0                 My Last                                      /wiki/My_Last      /wiki/Chris_Brown\n",
              "2984  2012      Linkin Park    100.0            Burn It Down              /wiki/Burn_It_Down_(Linkin_Park_song)      /wiki/Linkin_Park\n",
              "2985  2013         Paramore    100.0          Still Into You                               /wiki/Still_Into_You         /wiki/Paramore\n",
              "2986  2014      Miley Cyrus    100.0               Adore You                 /wiki/Adore_You_(Miley_Cyrus_song)      /wiki/Miley_Cyrus\n",
              "\n",
              "[2987 rows x 6 columns]"
            ]
          },
          "metadata": {
            "tags": []
          },
          "execution_count": 9
        }
      ]
    },
    {
      "cell_type": "markdown",
      "metadata": {
        "id": "S3Hilkq8-Q4R"
      },
      "source": [
        "### Who are the highest quality singers?"
      ]
    },
    {
      "cell_type": "markdown",
      "metadata": {
        "id": "RPQh_89N-Q4R"
      },
      "source": [
        "Here we show the highest quality singers and plot them on a bar chart.\n",
        "\n",
        "#### 1.5 Find highest quality singers according to how prolific they are\n",
        "\n",
        "What do we mean by highest quality? This is of course open to interpretation, but let's define \"highest quality\" here as the number of times a singer appears in the top 100 over this time period. If a singer appears twice in a year (for different songs), this is counted as two appearances, not one. \n",
        "\n",
        "Make a bar-plot of the most prolific singers. Singers on this chart should have appeared at-least more than 15 times. (HINT: look at the docs for the pandas method `value_counts`.)\n"
      ]
    },
    {
      "cell_type": "code",
      "metadata": {
        "colab": {
          "base_uri": "https://localhost:8080/",
          "height": 979
        },
        "id": "btnIFr4MXfm_",
        "outputId": "1993b8df-bc9c-40e8-c93e-aa7459cf38a7"
      },
      "source": [
        "singer_count = flatframe['band_singer'].value_counts()\n",
        "singer_name = singer_count.index\n",
        "\n",
        "list_singer = list(zip(singer_name, singer_count))     \n",
        "new_flatframe = pd.DataFrame(list_singer, \n",
        "                  columns = ['singer_name', 'singer_count']) \n",
        "\n",
        "new_flatframe = new_flatframe[new_flatframe.singer_count >= 15]\n",
        "new_flatframe\n"
      ],
      "execution_count": null,
      "outputs": [
        {
          "output_type": "execute_result",
          "data": {
            "text/html": [
              "<div>\n",
              "<style scoped>\n",
              "    .dataframe tbody tr th:only-of-type {\n",
              "        vertical-align: middle;\n",
              "    }\n",
              "\n",
              "    .dataframe tbody tr th {\n",
              "        vertical-align: top;\n",
              "    }\n",
              "\n",
              "    .dataframe thead th {\n",
              "        text-align: right;\n",
              "    }\n",
              "</style>\n",
              "<table border=\"1\" class=\"dataframe\">\n",
              "  <thead>\n",
              "    <tr style=\"text-align: right;\">\n",
              "      <th></th>\n",
              "      <th>singer_name</th>\n",
              "      <th>singer_count</th>\n",
              "    </tr>\n",
              "  </thead>\n",
              "  <tbody>\n",
              "    <tr>\n",
              "      <th>0</th>\n",
              "      <td>Rihanna</td>\n",
              "      <td>36</td>\n",
              "    </tr>\n",
              "    <tr>\n",
              "      <th>1</th>\n",
              "      <td>Lil Wayne</td>\n",
              "      <td>31</td>\n",
              "    </tr>\n",
              "    <tr>\n",
              "      <th>2</th>\n",
              "      <td>Usher</td>\n",
              "      <td>29</td>\n",
              "    </tr>\n",
              "    <tr>\n",
              "      <th>3</th>\n",
              "      <td>Ludacris</td>\n",
              "      <td>29</td>\n",
              "    </tr>\n",
              "    <tr>\n",
              "      <th>4</th>\n",
              "      <td>R. Kelly</td>\n",
              "      <td>28</td>\n",
              "    </tr>\n",
              "    <tr>\n",
              "      <th>5</th>\n",
              "      <td>Mariah Carey</td>\n",
              "      <td>27</td>\n",
              "    </tr>\n",
              "    <tr>\n",
              "      <th>6</th>\n",
              "      <td>Jay-Z</td>\n",
              "      <td>25</td>\n",
              "    </tr>\n",
              "    <tr>\n",
              "      <th>7</th>\n",
              "      <td>Chris Brown</td>\n",
              "      <td>24</td>\n",
              "    </tr>\n",
              "    <tr>\n",
              "      <th>8</th>\n",
              "      <td>T-Pain</td>\n",
              "      <td>23</td>\n",
              "    </tr>\n",
              "    <tr>\n",
              "      <th>9</th>\n",
              "      <td>Eminem</td>\n",
              "      <td>22</td>\n",
              "    </tr>\n",
              "    <tr>\n",
              "      <th>10</th>\n",
              "      <td>Kanye West</td>\n",
              "      <td>22</td>\n",
              "    </tr>\n",
              "    <tr>\n",
              "      <th>11</th>\n",
              "      <td>Drake</td>\n",
              "      <td>22</td>\n",
              "    </tr>\n",
              "    <tr>\n",
              "      <th>12</th>\n",
              "      <td>Justin Timberlake</td>\n",
              "      <td>20</td>\n",
              "    </tr>\n",
              "    <tr>\n",
              "      <th>13</th>\n",
              "      <td>Beyoncé</td>\n",
              "      <td>20</td>\n",
              "    </tr>\n",
              "    <tr>\n",
              "      <th>14</th>\n",
              "      <td>Akon</td>\n",
              "      <td>19</td>\n",
              "    </tr>\n",
              "    <tr>\n",
              "      <th>15</th>\n",
              "      <td>Pink</td>\n",
              "      <td>19</td>\n",
              "    </tr>\n",
              "    <tr>\n",
              "      <th>16</th>\n",
              "      <td>T.I.</td>\n",
              "      <td>18</td>\n",
              "    </tr>\n",
              "    <tr>\n",
              "      <th>17</th>\n",
              "      <td>Britney Spears</td>\n",
              "      <td>17</td>\n",
              "    </tr>\n",
              "    <tr>\n",
              "      <th>18</th>\n",
              "      <td>Taylor Swift</td>\n",
              "      <td>17</td>\n",
              "    </tr>\n",
              "    <tr>\n",
              "      <th>19</th>\n",
              "      <td>Alicia Keys</td>\n",
              "      <td>17</td>\n",
              "    </tr>\n",
              "    <tr>\n",
              "      <th>20</th>\n",
              "      <td>Nelly</td>\n",
              "      <td>17</td>\n",
              "    </tr>\n",
              "    <tr>\n",
              "      <th>21</th>\n",
              "      <td>Kelly Clarkson</td>\n",
              "      <td>17</td>\n",
              "    </tr>\n",
              "    <tr>\n",
              "      <th>22</th>\n",
              "      <td>Katy Perry</td>\n",
              "      <td>17</td>\n",
              "    </tr>\n",
              "    <tr>\n",
              "      <th>23</th>\n",
              "      <td>Ne-Yo</td>\n",
              "      <td>16</td>\n",
              "    </tr>\n",
              "    <tr>\n",
              "      <th>24</th>\n",
              "      <td>Madonna</td>\n",
              "      <td>16</td>\n",
              "    </tr>\n",
              "    <tr>\n",
              "      <th>25</th>\n",
              "      <td>The Black Eyed Peas</td>\n",
              "      <td>16</td>\n",
              "    </tr>\n",
              "    <tr>\n",
              "      <th>26</th>\n",
              "      <td>Missy Elliott</td>\n",
              "      <td>15</td>\n",
              "    </tr>\n",
              "    <tr>\n",
              "      <th>27</th>\n",
              "      <td>Janet Jackson</td>\n",
              "      <td>15</td>\n",
              "    </tr>\n",
              "    <tr>\n",
              "      <th>28</th>\n",
              "      <td>Snoop Dogg</td>\n",
              "      <td>15</td>\n",
              "    </tr>\n",
              "    <tr>\n",
              "      <th>29</th>\n",
              "      <td>Nicki Minaj</td>\n",
              "      <td>15</td>\n",
              "    </tr>\n",
              "  </tbody>\n",
              "</table>\n",
              "</div>"
            ],
            "text/plain": [
              "            singer_name  singer_count\n",
              "0               Rihanna            36\n",
              "1             Lil Wayne            31\n",
              "2                 Usher            29\n",
              "3              Ludacris            29\n",
              "4              R. Kelly            28\n",
              "5          Mariah Carey            27\n",
              "6                 Jay-Z            25\n",
              "7           Chris Brown            24\n",
              "8                T-Pain            23\n",
              "9                Eminem            22\n",
              "10           Kanye West            22\n",
              "11                Drake            22\n",
              "12    Justin Timberlake            20\n",
              "13              Beyoncé            20\n",
              "14                 Akon            19\n",
              "15                 Pink            19\n",
              "16                 T.I.            18\n",
              "17       Britney Spears            17\n",
              "18         Taylor Swift            17\n",
              "19          Alicia Keys            17\n",
              "20                Nelly            17\n",
              "21       Kelly Clarkson            17\n",
              "22           Katy Perry            17\n",
              "23                Ne-Yo            16\n",
              "24              Madonna            16\n",
              "25  The Black Eyed Peas            16\n",
              "26        Missy Elliott            15\n",
              "27        Janet Jackson            15\n",
              "28           Snoop Dogg            15\n",
              "29          Nicki Minaj            15"
            ]
          },
          "metadata": {
            "tags": []
          },
          "execution_count": 10
        }
      ]
    },
    {
      "cell_type": "code",
      "metadata": {
        "colab": {
          "base_uri": "https://localhost:8080/",
          "height": 603
        },
        "id": "4CZUAzT7XliK",
        "outputId": "d1e783af-05c9-42ee-98f0-24da1216d95a"
      },
      "source": [
        "sns.barplot(x = \"singer_name\",y = \"singer_count\" , data=new_flatframe)\n",
        "# plt.xticks(rotation=90)\n",
        "plt.rcParams['figure.figsize']=(30,10)\n",
        "plt.xticks(rotation=90)\n",
        "plt.show()"
      ],
      "execution_count": null,
      "outputs": [
        {
          "output_type": "display_data",
          "data": {
            "image/png": "[encoded data removed]",
            "text/plain": [
              "<Figure size 2160x720 with 1 Axes>"
            ]
          },
          "metadata": {
            "tags": []
          }
        }
      ]
    },
    {
      "cell_type": "markdown",
      "metadata": {
        "id": "fj6XgL0R-Q4R"
      },
      "source": [
        "#### 1.6 What if we used a different metric?"
      ]
    },
    {
      "cell_type": "markdown",
      "metadata": {
        "id": "YjKJfSSo-Q4R"
      },
      "source": [
        "What we would like to capture is this: a singer should to be scored higher if the singer appears higher in the rankings. So we'd say that a singer who appeared once at a higher and once at a lower ranking is a \"higher quality\" singer than one who appeared twice at a lower ranking. \n",
        "\n",
        "To do this, group all of a singers songs together and assign each song a score `101 - ranking`. Order the singers by their total score and make a bar chart for the top 20.\n"
      ]
    },
    {
      "cell_type": "code",
      "metadata": {
        "colab": {
          "base_uri": "https://localhost:8080/"
        },
        "id": "djVVeP6fbDv9",
        "outputId": "5de7fee9-5466-4465-849a-911b1465f360"
      },
      "source": [
        "high_singer = list(zip(singer_name, singer_count))     \n",
        "flatframe_new = pd.DataFrame(high_singer, \n",
        "                  columns = ['higher_quality', 'band_singer']) \n",
        "flatframe_new['higher_quality'] = 100 - flatframe['ranking']\n",
        "flatframe_new['band_singer'] = flatframe['band_singer']\n",
        "\n",
        "high_quality = flatframe_new.groupby('band_singer').higher_quality.sum()\n",
        "# flatframe_new\n",
        "# # print(high_quality)\n",
        "high_quality = high_quality.sort_values(ascending=False)\n",
        "# print(high_quality)\n",
        "high_quality_top20 = high_quality.head(20)\n",
        "print(high_quality_top20)"
      ],
      "execution_count": null,
      "outputs": [
        {
          "output_type": "stream",
          "text": [
            "band_singer\n",
            "Rihanna                1577.0\n",
            "Usher                  1458.0\n",
            "Mariah Carey           1279.0\n",
            "Katy Perry              961.0\n",
            "Bruno Mars              960.0\n",
            "Justin Timberlake       877.0\n",
            "50 Cent                 843.0\n",
            "Nelly                   833.0\n",
            "Beyoncé                 781.0\n",
            "Kanye West              731.0\n",
            "Boyz II Men             705.0\n",
            "Alicia Keys             665.0\n",
            "The Black Eyed Peas     665.0\n",
            "Jay-Z                   645.0\n",
            "Pink                    640.0\n",
            "Lil Wayne               624.0\n",
            "Lady Gaga               591.0\n",
            "Destiny's Child         589.0\n",
            "Jennifer Lopez          589.0\n",
            "Chris Brown             589.0\n",
            "Name: higher_quality, dtype: float64\n"
          ],
          "name": "stdout"
        }
      ]
    },
    {
      "cell_type": "code",
      "metadata": {
        "colab": {
          "base_uri": "https://localhost:8080/",
          "height": 593
        },
        "id": "Q6n7M3G8bOHB",
        "outputId": "333600d8-835e-4bc4-9b7e-9356544092cd"
      },
      "source": [
        "flatframe_new_top20 = pd.DataFrame(columns = ['band_singer', 'singer_count']) \n",
        "flatframe_new_top20['band_singer'] = high_quality_top20.index\n",
        "flatframe_new_top20['singer_count'] = high_quality_top20.values\n",
        "\n",
        "\n",
        "sns.barplot(x = \"band_singer\",y = \"singer_count\", data = flatframe_new_top20 )\n",
        "plt.rcParams['figure.figsize']=(30,10)\n",
        "plt.xticks(rotation=90)\n",
        "\n",
        "plt.show()"
      ],
      "execution_count": null,
      "outputs": [
        {
          "output_type": "display_data",
          "data": {
            "image/png": "[encoded data removed]",
            "text/plain": [
              "<Figure size 2160x720 with 1 Axes>"
            ]
          },
          "metadata": {
            "tags": []
          }
        }
      ]
    },
    {
      "cell_type": "markdown",
      "metadata": {
        "id": "rjLyUoj--Q4R"
      },
      "source": [
        "#### 1.7 Do you notice any major differences when you change the metric?\n",
        "\n",
        "How have the singers at the top shifted places? Why do you think this happens?"
      ]
    },
    {
      "cell_type": "markdown",
      "metadata": {
        "id": "k2-UnMH3-Q4R"
      },
      "source": [
        "## Q2. Scraping and Constructing: Information about Artists, Bands and Genres from Wikipedia"
      ]
    },
    {
      "cell_type": "markdown",
      "metadata": {
        "id": "x4vL7X4C-Q4R"
      },
      "source": [
        "Our next job is to use those band/singer urls we collected under `flatframe.url` and get information about singers and/or bands."
      ]
    },
    {
      "cell_type": "markdown",
      "metadata": {
        "id": "tkylByIG-Q4R"
      },
      "source": [
        "### Scrape information about artists from wikipedia"
      ]
    },
    {
      "cell_type": "markdown",
      "metadata": {
        "id": "jlUoTKus-Q4R"
      },
      "source": [
        "We wish to fetch information about the singers or groups for all the winning songs in a list of years.\n",
        "\n",
        "Here we show a function that fetches information about a singer or group from their url on wikipedia. We create a cache object `urlcache` that will avoid redundant HTTP requests (e.g. an artist might have multiple singles on a single year, or be on the list over a span of years). Once we have fetched information about an artist, we don't need to do it again. The caching also helps if the network goes down, or the target website is having some problems. You simply need to run the `get_page` function below again, and the `urlcache` dictionary will continue to be filled.\n",
        "\n",
        "If the request gets an HTTP return code different from 200, (such as a 404 not found or 500 Internal Server Error) the cells for that URL will have a value of 1; and if the request completely fails (e.g. no network connection) the cell will have a value of 2. This will allow you to analyse the failed requests.\n",
        "\n",
        "Notice that we have wrapped the call in whats called _an exception block_. We try to make the request. If it fails entirely, or returns a HTTP code thats not 200, we set the status to 2 and 1 respectively."
      ]
    },
    {
      "cell_type": "code",
      "metadata": {
        "id": "x4MCDb_X-Q4S",
        "scrolled": true
      },
      "source": [
        "urlcache={}\n"
      ],
      "execution_count": null,
      "outputs": []
    },
    {
      "cell_type": "code",
      "metadata": {
        "id": "nRhnPeVB-Q4S",
        "scrolled": true
      },
      "source": [
        "def get_page(url):\n",
        "    # Check if URL has already been visited.\n",
        "    if (url not in urlcache) or (urlcache[url]==1) or (urlcache[url]==2):\n",
        "        time.sleep(1)\n",
        "        # try/except blocks are used whenever the code could generate an exception (e.g. division by zero).\n",
        "        # In this case we don't know if the page really exists, or even if it does, if we'll be able to reach it.\n",
        "        try:\n",
        "            r = requests.get(\"http://en.wikipedia.org%s\" % url)\n",
        "\n",
        "            if r.status_code == 200:\n",
        "                urlcache[url] = r.text\n",
        "            else:\n",
        "                urlcache[url] = 1\n",
        "        except:\n",
        "            urlcache[url] = 2\n",
        "    return urlcache[url]\n"
      ],
      "execution_count": null,
      "outputs": []
    },
    {
      "cell_type": "markdown",
      "metadata": {
        "id": "soIKiooy-Q4S"
      },
      "source": [
        "We sort the `flatframe` by year, ascending, first. Think why."
      ]
    },
    {
      "cell_type": "code",
      "metadata": {
        "colab": {
          "base_uri": "https://localhost:8080/",
          "height": 419
        },
        "id": "smX4Autc-Q4S",
        "scrolled": true,
        "outputId": "d3df5e4c-a1b9-404b-b3ed-8072b6f2bea5"
      },
      "source": [
        "flatframe=flatframe.sort_values('year')\n",
        "flatframe"
      ],
      "execution_count": null,
      "outputs": [
        {
          "output_type": "execute_result",
          "data": {
            "text/html": [
              "<div>\n",
              "<style scoped>\n",
              "    .dataframe tbody tr th:only-of-type {\n",
              "        vertical-align: middle;\n",
              "    }\n",
              "\n",
              "    .dataframe tbody tr th {\n",
              "        vertical-align: top;\n",
              "    }\n",
              "\n",
              "    .dataframe thead th {\n",
              "        text-align: right;\n",
              "    }\n",
              "</style>\n",
              "<table border=\"1\" class=\"dataframe\">\n",
              "  <thead>\n",
              "    <tr style=\"text-align: right;\">\n",
              "      <th></th>\n",
              "      <th>year</th>\n",
              "      <th>band_singer</th>\n",
              "      <th>ranking</th>\n",
              "      <th>song</th>\n",
              "      <th>songurl</th>\n",
              "      <th>url</th>\n",
              "    </tr>\n",
              "  </thead>\n",
              "  <tbody>\n",
              "    <tr>\n",
              "      <th>0</th>\n",
              "      <td>1992</td>\n",
              "      <td>Boyz II Men</td>\n",
              "      <td>1.0</td>\n",
              "      <td>End of the Road</td>\n",
              "      <td>/wiki/End_of_the_Road_(Boyz_II_Men_song)</td>\n",
              "      <td>/wiki/Boyz_II_Men</td>\n",
              "    </tr>\n",
              "    <tr>\n",
              "      <th>244</th>\n",
              "      <td>1992</td>\n",
              "      <td>Color Me Badd</td>\n",
              "      <td>9.0</td>\n",
              "      <td>All 4 Love</td>\n",
              "      <td>/wiki/All_4_Love</td>\n",
              "      <td>/wiki/Color_Me_Badd</td>\n",
              "    </tr>\n",
              "    <tr>\n",
              "      <th>2055</th>\n",
              "      <td>1992</td>\n",
              "      <td>Marky Mark and the Funky Bunch</td>\n",
              "      <td>69.0</td>\n",
              "      <td>Wildside</td>\n",
              "      <td>/wiki/Wildside_(Marky_Mark_and_the_Funky_Bunch...</td>\n",
              "      <td>/wiki/Marky_Mark_and_the_Funky_Bunch</td>\n",
              "    </tr>\n",
              "    <tr>\n",
              "      <th>2024</th>\n",
              "      <td>1992</td>\n",
              "      <td>Genesis</td>\n",
              "      <td>68.0</td>\n",
              "      <td>No Son of Mine</td>\n",
              "      <td>/wiki/No_Son_of_Mine</td>\n",
              "      <td>/wiki/Genesis_(band)</td>\n",
              "    </tr>\n",
              "    <tr>\n",
              "      <th>1998</th>\n",
              "      <td>1992</td>\n",
              "      <td>Arrested Development</td>\n",
              "      <td>67.0</td>\n",
              "      <td>People Everyday</td>\n",
              "      <td>/wiki/People_Everyday</td>\n",
              "      <td>/wiki/Arrested_Development_(group)</td>\n",
              "    </tr>\n",
              "    <tr>\n",
              "      <th>...</th>\n",
              "      <td>...</td>\n",
              "      <td>...</td>\n",
              "      <td>...</td>\n",
              "      <td>...</td>\n",
              "      <td>...</td>\n",
              "      <td>...</td>\n",
              "    </tr>\n",
              "    <tr>\n",
              "      <th>1792</th>\n",
              "      <td>2014</td>\n",
              "      <td>Echosmith</td>\n",
              "      <td>59.0</td>\n",
              "      <td>Cool Kids</td>\n",
              "      <td>/wiki/Cool_Kids_(Echosmith_song)</td>\n",
              "      <td>/wiki/Echosmith</td>\n",
              "    </tr>\n",
              "    <tr>\n",
              "      <th>328</th>\n",
              "      <td>2014</td>\n",
              "      <td>Pitbull</td>\n",
              "      <td>11.0</td>\n",
              "      <td>Timber</td>\n",
              "      <td>/wiki/Timber_(Pitbull_song)</td>\n",
              "      <td>/wiki/Pitbull_(rapper)</td>\n",
              "    </tr>\n",
              "    <tr>\n",
              "      <th>1762</th>\n",
              "      <td>2014</td>\n",
              "      <td>Rich Homie Quan</td>\n",
              "      <td>58.0</td>\n",
              "      <td>My Hitta</td>\n",
              "      <td>/wiki/My_Nigga</td>\n",
              "      <td>/wiki/Rich_Homie_Quan</td>\n",
              "    </tr>\n",
              "    <tr>\n",
              "      <th>1334</th>\n",
              "      <td>2014</td>\n",
              "      <td>Miley Cyrus</td>\n",
              "      <td>44.0</td>\n",
              "      <td>Wrecking Ball</td>\n",
              "      <td>/wiki/Wrecking_Ball_(Miley_Cyrus_song)</td>\n",
              "      <td>/wiki/Miley_Cyrus</td>\n",
              "    </tr>\n",
              "    <tr>\n",
              "      <th>2986</th>\n",
              "      <td>2014</td>\n",
              "      <td>Miley Cyrus</td>\n",
              "      <td>100.0</td>\n",
              "      <td>Adore You</td>\n",
              "      <td>/wiki/Adore_You_(Miley_Cyrus_song)</td>\n",
              "      <td>/wiki/Miley_Cyrus</td>\n",
              "    </tr>\n",
              "  </tbody>\n",
              "</table>\n",
              "<p>2987 rows × 6 columns</p>\n",
              "</div>"
            ],
            "text/plain": [
              "      year                     band_singer  ranking             song                                            songurl                                   url\n",
              "0     1992                     Boyz II Men      1.0  End of the Road           /wiki/End_of_the_Road_(Boyz_II_Men_song)                     /wiki/Boyz_II_Men\n",
              "244   1992                   Color Me Badd      9.0       All 4 Love                                   /wiki/All_4_Love                   /wiki/Color_Me_Badd\n",
              "2055  1992  Marky Mark and the Funky Bunch     69.0         Wildside  /wiki/Wildside_(Marky_Mark_and_the_Funky_Bunch...  /wiki/Marky_Mark_and_the_Funky_Bunch\n",
              "2024  1992                         Genesis     68.0   No Son of Mine                               /wiki/No_Son_of_Mine                  /wiki/Genesis_(band)\n",
              "1998  1992            Arrested Development     67.0  People Everyday                              /wiki/People_Everyday    /wiki/Arrested_Development_(group)\n",
              "...    ...                             ...      ...              ...                                                ...                                   ...\n",
              "1792  2014                       Echosmith     59.0        Cool Kids                   /wiki/Cool_Kids_(Echosmith_song)                       /wiki/Echosmith\n",
              "328   2014                         Pitbull     11.0           Timber                        /wiki/Timber_(Pitbull_song)                /wiki/Pitbull_(rapper)\n",
              "1762  2014                 Rich Homie Quan     58.0         My Hitta                                     /wiki/My_Nigga                 /wiki/Rich_Homie_Quan\n",
              "1334  2014                     Miley Cyrus     44.0    Wrecking Ball             /wiki/Wrecking_Ball_(Miley_Cyrus_song)                     /wiki/Miley_Cyrus\n",
              "2986  2014                     Miley Cyrus    100.0        Adore You                 /wiki/Adore_You_(Miley_Cyrus_song)                     /wiki/Miley_Cyrus\n",
              "\n",
              "[2987 rows x 6 columns]"
            ]
          },
          "metadata": {
            "tags": []
          },
          "execution_count": 17
        }
      ]
    },
    {
      "cell_type": "markdown",
      "metadata": {
        "id": "mD9N5wAh-Q4S"
      },
      "source": [
        "#### Pulling and saving the data"
      ]
    },
    {
      "cell_type": "code",
      "metadata": {
        "colab": {
          "base_uri": "https://localhost:8080/"
        },
        "id": "1x0IzQCw-Q4S",
        "scrolled": true,
        "outputId": "143f47ea-8dd4-41d2-b38c-1535968331f0"
      },
      "source": [
        "# DO NOT RERUN THIS CELL WHEN SUBMITTING\n",
        "# Here we are populating the url cache\n",
        "# subsequent calls to this cell should be very fast, since Python won't\n",
        "# need to fetch the page from the web server.\n",
        "# NOTE this function will take quite some time to run (about 30 mins for me), since we sleep 1 second before\n",
        "# making a request. If you run it again it will be almost instantaneous, save requests that might have failed\n",
        "# (you will need to run it again if requests fail..see cell below for how to test this)\n",
        "flatframe[\"url\"].apply(get_page)"
      ],
      "execution_count": null,
      "outputs": [
        {
          "output_type": "execute_result",
          "data": {
            "text/plain": [
              "0       <!DOCTYPE html>\\n<html class=\"client-nojs\" lan...\n",
              "244     <!DOCTYPE html>\\n<html class=\"client-nojs\" lan...\n",
              "2055    <!DOCTYPE html>\\n<html class=\"client-nojs\" lan...\n",
              "2024    <!DOCTYPE html>\\n<html class=\"client-nojs\" lan...\n",
              "1998    <!DOCTYPE html>\\n<html class=\"client-nojs\" lan...\n",
              "                              ...                        \n",
              "1792    <!DOCTYPE html>\\n<html class=\"client-nojs\" lan...\n",
              "328     <!DOCTYPE html>\\n<html class=\"client-nojs\" lan...\n",
              "1762    <!DOCTYPE html>\\n<html class=\"client-nojs\" lan...\n",
              "1334    <!DOCTYPE html>\\n<html class=\"client-nojs\" lan...\n",
              "2986    <!DOCTYPE html>\\n<html class=\"client-nojs\" lan...\n",
              "Name: url, Length: 2987, dtype: object"
            ]
          },
          "metadata": {
            "tags": []
          },
          "execution_count": 19
        }
      ]
    },
    {
      "cell_type": "markdown",
      "metadata": {
        "id": "aXwW6q0E-Q4S"
      },
      "source": [
        "You may have to run this function again and again, in case there were network problems. Note that, because there is a \"global\" cache, it will take less time each time you run it. Also note that this function is designed to be run again and again: it attempts to make sure that there are no unresolved pages remaining. Let us make sure of this: *the sum below should be 0, and the boolean True.*"
      ]
    },
    {
      "cell_type": "code",
      "metadata": {
        "colab": {
          "base_uri": "https://localhost:8080/"
        },
        "id": "Bli3SgHJ-Q4S",
        "scrolled": true,
        "outputId": "38161eec-57a4-4d36-e0a5-ce9216db656b"
      },
      "source": [
        "# DO NOT RERUN THIS CELL WHEN SUBMITTING\n",
        "print(\"Number of bad requests:\",np.sum([(urlcache[k]==1) or (urlcache[k]==2) for k in urlcache])) # no one or 0's)\n",
        "print(\"Did we get all urls?\", len(flatframe.url.unique())==len(urlcache)) # we got all of the urls"
      ],
      "execution_count": null,
      "outputs": [
        {
          "output_type": "stream",
          "text": [
            "Number of bad requests: 0\n",
            "Did we get all urls? True\n"
          ],
          "name": "stdout"
        }
      ]
    },
    {
      "cell_type": "markdown",
      "metadata": {
        "id": "TO0f0bVs-Q4S"
      },
      "source": [
        "Let's save the `urlcache` to disk, just in case we need it again."
      ]
    },
    {
      "cell_type": "code",
      "metadata": {
        "id": "WQljmFyE-Q4S"
      },
      "source": [
        "# DO NOT RERUN THIS CELL WHEN SUBMITTING\n",
        "with open(\"/content/artistinfo.json\",\"w\") as fd:\n",
        "    json.dump(urlcache, fd)\n",
        "del urlcache"
      ],
      "execution_count": null,
      "outputs": []
    },
    {
      "cell_type": "code",
      "metadata": {
        "id": "4rVIcpQI-Q4T",
        "scrolled": false
      },
      "source": [
        "# RERUN WHEN SUBMITTING\n",
        "with open(\"/content/artistinfo.json\") as json_file:\n",
        "    urlcache = json.load(json_file)\n",
        "# print(urlcache)"
      ],
      "execution_count": null,
      "outputs": []
    },
    {
      "cell_type": "markdown",
      "metadata": {
        "id": "4aaSEgwU-Q4T"
      },
      "source": [
        "#### 2.1 Extract information about singers and bands"
      ]
    },
    {
      "cell_type": "markdown",
      "metadata": {
        "id": "8BG8Habx-Q4T"
      },
      "source": [
        "From each page we collected about a singer or a band, extract the following information:\n",
        "\n",
        "1. If the page has the text \"Born\" in the sidebar on the right, extract the element with the class `.bday`. If the page doesn't contain \"Born\", store `False`.  Store either of these into the variable `born`. We want to analyze the artist's age.\n",
        "\n",
        "2. If the text \"Years active\" is found, but no \"born\", assume a band. Store into the variable `ya` the value of the next table cell corresponding to this, or `False` if the text is not found.\n",
        "\n",
        "Put this all into a function `singer_band_info` which takes the singer/band url as argument and returns a dictionary `dict(url=url, born=born, ya=ya)`.\n",
        "\n",
        "The information can be found on the sidebar on each such wikipedia page, as the example here shows:\n",
        "\n",
        "![sandg](https://raw.githubusercontent.com/cs109/a-2017/master/hwassets/images/sandg.png).\n",
        "\n"
      ]
    },
    {
      "cell_type": "markdown",
      "metadata": {
        "id": "TMAnEyeP-Q4T"
      },
      "source": [
        "Write the function `singer_band_info` according to the following specification:"
      ]
    },
    {
      "cell_type": "code",
      "metadata": {
        "colab": {
          "background_save": true
        },
        "id": "N9S4t-7L-Q4T",
        "outputId": "0be1e0bc-ef00-4dbe-9484-8fa983041abc"
      },
      "source": [
        "\"\"\"\n",
        "Function\n",
        "--------\n",
        "singer_band_info\n",
        "\n",
        "Inputs\n",
        "------\n",
        "url: the url\n",
        "page_text: the text associated with the url\n",
        "   \n",
        "Returns\n",
        "-------\n",
        "A dictionary with the following data:\n",
        "    url: copy the input argument url into this value\n",
        "    born: the artist's birthday\n",
        "    ya: years active variable\n",
        "\n",
        "Notes\n",
        "-----\n",
        "See description above. Also note that some of the genres urls might require a \n",
        "bit of care and special handling.\n",
        "\"\"\""
      ],
      "execution_count": null,
      "outputs": [
        {
          "output_type": "execute_result",
          "data": {
            "application/vnd.google.colaboratory.intrinsic+json": {
              "type": "string"
            },
            "text/plain": [
              "\"\\nFunction\\n--------\\nsinger_band_info\\n\\nInputs\\n------\\nurl: the url\\npage_text: the text associated with the url\\n   \\nReturns\\n-------\\nA dictionary with the following data:\\n    url: copy the input argument url into this value\\n    born: the artist's birthday\\n    ya: years active variable\\n\\nNotes\\n-----\\nSee description above. Also note that some of the genres urls might require a \\nbit of care and special handling.\\n\""
            ]
          },
          "metadata": {
            "tags": []
          },
          "execution_count": 0
        }
      ]
    },
    {
      "cell_type": "code",
      "metadata": {
        "id": "EW5cKwsVKAwW"
      },
      "source": [
        ""
      ],
      "execution_count": null,
      "outputs": []
    },
    {
      "cell_type": "code",
      "metadata": {
        "id": "xlLAeKvnCTnn"
      },
      "source": [
        "# url = \"https://en.wikipedia.org/wiki/Meghan_Trainor\"\n",
        "# page_text = requests.get(url).text\n",
        "# years_active = False\n",
        "# birth_year = False\n",
        "# source = BeautifulSoup(page_text, 'html.parser')\n",
        "\n",
        "# artist_info = source.find('table', {'class': ['infobox', 'biography']})\n",
        "\n",
        "# birth_year_temp = int((source.find('span', class_= 'bday').text)[:4])\n",
        "# # print(birth_year)\n",
        "# if birth_year_temp:\n",
        "#   birth_year = birth_year_temp\n",
        "# else:\n",
        "#   birth_year = False\n",
        "\n",
        "\n"
      ],
      "execution_count": null,
      "outputs": []
    },
    {
      "cell_type": "code",
      "metadata": {
        "id": "yd8OnYQFFI7J"
      },
      "source": [
        "def singer_band_info(url,pagetext):\n",
        "  singer_details={}\n",
        "  years_active = False\n",
        "  ya = False\n",
        "  birth_value = False\n",
        "\n",
        "  singer_details['url']=url\n",
        "\n",
        "  soup = BeautifulSoup(pagetext)\n",
        "\n",
        "\n",
        "  table_details = soup.find('table')\n",
        "  table_rows = table_details.find_all(\"tr\")\n",
        "\n",
        "  for item in table_rows:\n",
        "    table_head = item.find('th',{'scope':'row'})\n",
        "    table_data = item.find('td')\n",
        "    try:\n",
        "      year_details = table_head.text\n",
        "    except:\n",
        "      continue\n",
        "    if 'Years' in year_details:\n",
        "      ya = table_data.text\n",
        "      years_active = True      \n",
        "  if not years_active:\n",
        "    ya = False\n",
        "  singer_details[\"ya\"] = ya\n",
        "\n",
        "  birth_deatils = soup.find(\"span\",{\"class\":\"bday\"})\n",
        "  if birth_deatils!=None:\n",
        "    birth_value = birth_deatils.text\n",
        "  else:\n",
        "    birth_value = False\n",
        "  singer_details['birth_value']=birth_value\n",
        "\n",
        "\n",
        "  # for head in heads_table:\n",
        "  #   if head.text == 'Years active':\n",
        "  #     years_active_info = (data_table[heads_table.index(head) - 1].text).strip()\n",
        "  #     years_active = years_active_info[:4]\n",
        "  #     singer_details['ya']= years_active\n",
        "  #   else:\n",
        "  #     singer_details['ya']= False\n",
        "  \n",
        "  return singer_details\n",
        "\n",
        "singer_band_info_list = []\n",
        "\n",
        "for i in urlcache:\n",
        "  url_cache = urlcache[i]\n",
        "  list_value  = singer_band_info(i,url_cache)\n",
        "  singer_band_info_list.append(list_value)\n",
        "\n",
        "\n"
      ],
      "execution_count": null,
      "outputs": []
    },
    {
      "cell_type": "code",
      "metadata": {
        "id": "m8-_4tYyTOXc"
      },
      "source": [
        "singer_band_info_list"
      ],
      "execution_count": null,
      "outputs": []
    },
    {
      "cell_type": "markdown",
      "metadata": {
        "id": "STdhA_Z6-Q4T"
      },
      "source": [
        "#### 2.2  Merging this information in"
      ]
    },
    {
      "cell_type": "markdown",
      "metadata": {
        "id": "YjfYnOAV-Q4T"
      },
      "source": [
        "Iterate over the items in the singer-group dictionary cache `urlcache`, run the above function, and create a dataframe from there with columns `url`, `born`, and `ya`. Merge this dataframe on the `url` key with `flatframe`, creating a rather wide dataframe that we shall call `largedf`. It should look something like this:\n",
        "\n",
        "![](https://raw.githubusercontent.com/cs109/a-2017/master/hwassets/images/HW1SC3.png)\n",
        "\n",
        "Notice how the `born` and `ya` and `url` are repeated every time a different song from a given band is represented in a row."
      ]
    },
    {
      "cell_type": "code",
      "metadata": {
        "colab": {
          "base_uri": "https://localhost:8080/",
          "height": 538
        },
        "id": "3kAHQkPNHewf",
        "outputId": "17e24467-aa24-4046-cecf-8f2ea23c1d60"
      },
      "source": [
        "merged_flatframe = pd.DataFrame(singer_band_info_list)\n",
        "largedf = pd.merge(flatframe, merged_flatframe, on='url')\n",
        "largedf"
      ],
      "execution_count": null,
      "outputs": [
        {
          "output_type": "execute_result",
          "data": {
            "text/html": [
              "<div>\n",
              "<style scoped>\n",
              "    .dataframe tbody tr th:only-of-type {\n",
              "        vertical-align: middle;\n",
              "    }\n",
              "\n",
              "    .dataframe tbody tr th {\n",
              "        vertical-align: top;\n",
              "    }\n",
              "\n",
              "    .dataframe thead th {\n",
              "        text-align: right;\n",
              "    }\n",
              "</style>\n",
              "<table border=\"1\" class=\"dataframe\">\n",
              "  <thead>\n",
              "    <tr style=\"text-align: right;\">\n",
              "      <th></th>\n",
              "      <th>year</th>\n",
              "      <th>band_singer</th>\n",
              "      <th>ranking</th>\n",
              "      <th>song</th>\n",
              "      <th>songurl</th>\n",
              "      <th>url</th>\n",
              "      <th>ya</th>\n",
              "      <th>birth_value</th>\n",
              "    </tr>\n",
              "  </thead>\n",
              "  <tbody>\n",
              "    <tr>\n",
              "      <th>0</th>\n",
              "      <td>1992</td>\n",
              "      <td>Boyz II Men</td>\n",
              "      <td>1.0</td>\n",
              "      <td>End of the Road</td>\n",
              "      <td>/wiki/End_of_the_Road_(Boyz_II_Men_song)</td>\n",
              "      <td>/wiki/Boyz_II_Men</td>\n",
              "      <td>1987–present[1]</td>\n",
              "      <td>False</td>\n",
              "    </tr>\n",
              "    <tr>\n",
              "      <th>1</th>\n",
              "      <td>1992</td>\n",
              "      <td>Boyz II Men</td>\n",
              "      <td>84.0</td>\n",
              "      <td>Uhh Ahh</td>\n",
              "      <td>/wiki/Uhh_Ahh</td>\n",
              "      <td>/wiki/Boyz_II_Men</td>\n",
              "      <td>1987–present[1]</td>\n",
              "      <td>False</td>\n",
              "    </tr>\n",
              "    <tr>\n",
              "      <th>2</th>\n",
              "      <td>1992</td>\n",
              "      <td>Boyz II Men</td>\n",
              "      <td>37.0</td>\n",
              "      <td>It's So Hard to Say Goodbye to Yesterday</td>\n",
              "      <td>/wiki/It%27s_So_Hard_to_Say_Goodbye_to_Yesterday</td>\n",
              "      <td>/wiki/Boyz_II_Men</td>\n",
              "      <td>1987–present[1]</td>\n",
              "      <td>False</td>\n",
              "    </tr>\n",
              "    <tr>\n",
              "      <th>3</th>\n",
              "      <td>1993</td>\n",
              "      <td>Boyz II Men</td>\n",
              "      <td>12.0</td>\n",
              "      <td>In the Still of the Nite</td>\n",
              "      <td>/wiki/In_the_Still_of_the_Night_(1956_song)#Bo...</td>\n",
              "      <td>/wiki/Boyz_II_Men</td>\n",
              "      <td>1987–present[1]</td>\n",
              "      <td>False</td>\n",
              "    </tr>\n",
              "    <tr>\n",
              "      <th>4</th>\n",
              "      <td>1994</td>\n",
              "      <td>Boyz II Men</td>\n",
              "      <td>3.0</td>\n",
              "      <td>I'll Make Love to You</td>\n",
              "      <td>/wiki/I%27ll_Make_Love_to_You</td>\n",
              "      <td>/wiki/Boyz_II_Men</td>\n",
              "      <td>1987–present[1]</td>\n",
              "      <td>False</td>\n",
              "    </tr>\n",
              "    <tr>\n",
              "      <th>...</th>\n",
              "      <td>...</td>\n",
              "      <td>...</td>\n",
              "      <td>...</td>\n",
              "      <td>...</td>\n",
              "      <td>...</td>\n",
              "      <td>...</td>\n",
              "      <td>...</td>\n",
              "      <td>...</td>\n",
              "    </tr>\n",
              "    <tr>\n",
              "      <th>2982</th>\n",
              "      <td>2014</td>\n",
              "      <td>Meghan Trainor</td>\n",
              "      <td>8.0</td>\n",
              "      <td>All About That Bass</td>\n",
              "      <td>/wiki/All_About_That_Bass</td>\n",
              "      <td>/wiki/Meghan_Trainor</td>\n",
              "      <td>2009–present</td>\n",
              "      <td>1993-12-22</td>\n",
              "    </tr>\n",
              "    <tr>\n",
              "      <th>2983</th>\n",
              "      <td>2014</td>\n",
              "      <td>Brantley Gilbert</td>\n",
              "      <td>68.0</td>\n",
              "      <td>Bottoms Up</td>\n",
              "      <td>/wiki/Bottoms_Up_(Brantley_Gilbert_song)</td>\n",
              "      <td>/wiki/Brantley_Gilbert</td>\n",
              "      <td>2005–present</td>\n",
              "      <td>1985-01-20</td>\n",
              "    </tr>\n",
              "    <tr>\n",
              "      <th>2984</th>\n",
              "      <td>2014</td>\n",
              "      <td>Tinashe</td>\n",
              "      <td>65.0</td>\n",
              "      <td>2 On</td>\n",
              "      <td>/wiki/2_On</td>\n",
              "      <td>/wiki/Tinashe</td>\n",
              "      <td>2000–present</td>\n",
              "      <td>1993-02-06</td>\n",
              "    </tr>\n",
              "    <tr>\n",
              "      <th>2985</th>\n",
              "      <td>2014</td>\n",
              "      <td>Idina Menzel</td>\n",
              "      <td>21.0</td>\n",
              "      <td>Let It Go</td>\n",
              "      <td>/wiki/Let_It_Go_(Disney_song)</td>\n",
              "      <td>/wiki/Idina_Menzel</td>\n",
              "      <td>1995–present</td>\n",
              "      <td>1971-05-30</td>\n",
              "    </tr>\n",
              "    <tr>\n",
              "      <th>2986</th>\n",
              "      <td>2014</td>\n",
              "      <td>Echosmith</td>\n",
              "      <td>59.0</td>\n",
              "      <td>Cool Kids</td>\n",
              "      <td>/wiki/Cool_Kids_(Echosmith_song)</td>\n",
              "      <td>/wiki/Echosmith</td>\n",
              "      <td>False</td>\n",
              "      <td>False</td>\n",
              "    </tr>\n",
              "  </tbody>\n",
              "</table>\n",
              "<p>2987 rows × 8 columns</p>\n",
              "</div>"
            ],
            "text/plain": [
              "      year       band_singer  ranking                                      song                                            songurl                     url               ya birth_value\n",
              "0     1992       Boyz II Men      1.0                           End of the Road           /wiki/End_of_the_Road_(Boyz_II_Men_song)       /wiki/Boyz_II_Men  1987–present[1]       False\n",
              "1     1992       Boyz II Men     84.0                                   Uhh Ahh                                      /wiki/Uhh_Ahh       /wiki/Boyz_II_Men  1987–present[1]       False\n",
              "2     1992       Boyz II Men     37.0  It's So Hard to Say Goodbye to Yesterday   /wiki/It%27s_So_Hard_to_Say_Goodbye_to_Yesterday       /wiki/Boyz_II_Men  1987–present[1]       False\n",
              "3     1993       Boyz II Men     12.0                  In the Still of the Nite  /wiki/In_the_Still_of_the_Night_(1956_song)#Bo...       /wiki/Boyz_II_Men  1987–present[1]       False\n",
              "4     1994       Boyz II Men      3.0                     I'll Make Love to You                      /wiki/I%27ll_Make_Love_to_You       /wiki/Boyz_II_Men  1987–present[1]       False\n",
              "...    ...               ...      ...                                       ...                                                ...                     ...              ...         ...\n",
              "2982  2014    Meghan Trainor      8.0                       All About That Bass                          /wiki/All_About_That_Bass    /wiki/Meghan_Trainor     2009–present  1993-12-22\n",
              "2983  2014  Brantley Gilbert     68.0                                Bottoms Up           /wiki/Bottoms_Up_(Brantley_Gilbert_song)  /wiki/Brantley_Gilbert     2005–present  1985-01-20\n",
              "2984  2014           Tinashe     65.0                                      2 On                                         /wiki/2_On           /wiki/Tinashe     2000–present  1993-02-06\n",
              "2985  2014      Idina Menzel     21.0                                 Let It Go                      /wiki/Let_It_Go_(Disney_song)      /wiki/Idina_Menzel     1995–present  1971-05-30\n",
              "2986  2014         Echosmith     59.0                                 Cool Kids                   /wiki/Cool_Kids_(Echosmith_song)         /wiki/Echosmith            False       False\n",
              "\n",
              "[2987 rows x 8 columns]"
            ]
          },
          "metadata": {
            "tags": []
          },
          "execution_count": 118
        }
      ]
    },
    {
      "cell_type": "markdown",
      "metadata": {
        "id": "qw2eszt3-Q4T"
      },
      "source": [
        "#### 2.3 What is the age at which singers achieve their top ranking?"
      ]
    },
    {
      "cell_type": "markdown",
      "metadata": {
        "id": "uH5yLCtq-Q4T"
      },
      "source": [
        "Plot a histogram of the age at which singers achieve their top ranking. What conclusions can you draw from this distribution of ages?\n",
        "\n",
        "*HINT: You will need to do some manipulation of the `born` column, and find the song for which a band or an artist achieves their top ranking. You will then need to put these rows together into another dataframe or array to make the plot.*"
      ]
    },
    {
      "cell_type": "code",
      "metadata": {
        "colab": {
          "base_uri": "https://localhost:8080/",
          "height": 699
        },
        "id": "NHzP7AkYHr69",
        "outputId": "8ce34e47-4a1d-4655-8a86-0f3e0aaae778"
      },
      "source": [
        "years=[]\n",
        "for band_singer,columns_remng in largedf.groupby('band_singer'):\n",
        "\n",
        "  rank_value_highest = max(columns_remng.ranking)\n",
        "  rows_matched = columns_remng[columns_remng.ranking == rank_value_highest]\n",
        "\n",
        "\n",
        "  if rows_matched.birth_value.values[0] != False and rank_value_highest == min(columns_remng.ranking):\n",
        "    birth_value = rows_matched.birth_value.values[0][:4]\n",
        "    try:\n",
        "      year = int(rows_matched.year.values[0])-int(birth_value)\n",
        "      years.append(year)\n",
        "    except:\n",
        "      continue\n",
        "      year = int(rows_matched.year.values[0])-int(birth_value1.split()[-3])\n",
        "      years.append(year)\n",
        "\n",
        "fig, axs = plt.subplots(1, 1, figsize =(10, 10),  tight_layout = True) \n",
        "\n",
        "axs.hist(years, bins = 20) \n",
        "\n",
        "plt.show() "
      ],
      "execution_count": null,
      "outputs": [
        {
          "output_type": "display_data",
          "data": {
            "image/png": "[encoded data removed]",
            "text/plain": [
              "<Figure size 720x720 with 1 Axes>"
            ]
          },
          "metadata": {
            "tags": []
          }
        }
      ]
    },
    {
      "cell_type": "markdown",
      "metadata": {
        "id": "uHE1uZ8t-Q4T"
      },
      "source": [
        "#### 2.4 At what year since inception do bands reach their top rankings?"
      ]
    },
    {
      "cell_type": "markdown",
      "metadata": {
        "id": "4vLl6QQh-Q4T"
      },
      "source": [
        "Make a similar calculation to plot a histogram of the years since inception at which bands reach their top ranking. What conclusions can you draw?"
      ]
    },
    {
      "cell_type": "code",
      "metadata": {
        "colab": {
          "base_uri": "https://localhost:8080/",
          "height": 483
        },
        "id": "WQoT-w_3Hx2Y",
        "outputId": "5f56ad02-220f-4965-f701-447a09652338"
      },
      "source": [
        "years=[]\n",
        "for band_singer,columns_remng in largedf.groupby('band_singer'):\n",
        "\n",
        "  rank_value_highest = max(columns_remng.ranking)\n",
        "  rows_matched = columns_remng[columns_remng.ranking == rank_value_highest]\n",
        "  \n",
        "  if rows_matched.ya.values[0]!=False and rank_value_highest == min(columns_remng.ranking):\n",
        "    year_required = rows_matched.ya.values[0][0:4]\n",
        "\n",
        "    if len(year_required)==4:\n",
        "      try:\n",
        "        year = int(rows_matched.year.values[0])-int(year_required)\n",
        "\n",
        "        if len(str(year)) < 3:\n",
        "          years.append(year)\n",
        "      except:\n",
        "        pass      \n",
        "     \n",
        "\n",
        "fig, axs = plt.subplots(1, 1, figsize =(10, 7),  tight_layout = True) \n",
        "  \n",
        "axs.hist(years, bins = 20) \n",
        "plt.show() "
      ],
      "execution_count": null,
      "outputs": [
        {
          "output_type": "display_data",
          "data": {
            "image/png": "[encoded data removed]",
            "text/plain": [
              "<Figure size 720x504 with 1 Axes>"
            ]
          },
          "metadata": {
            "tags": []
          }
        }
      ]
    }
  ]
}